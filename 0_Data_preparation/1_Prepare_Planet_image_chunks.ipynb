{
 "cells": [
  {
   "cell_type": "markdown",
   "metadata": {},
   "source": [
    "Notebook to clip Planet mosaic images into image chunks of required size by the crop boundary deep learning model, and remove chunks outside AOIs or with no crop using DE Africa's crop mask 2019."
   ]
  },
  {
   "cell_type": "markdown",
   "metadata": {},
   "source": [
    "## Load packages and modules"
   ]
  },
  {
   "cell_type": "code",
   "execution_count": 9,
   "metadata": {},
   "outputs": [],
   "source": [
    "from glob import glob\n",
    "import os\n",
    "import subprocess\n",
    "import rasterio\n",
    "import datacube\n",
    "import numpy as np\n",
    "import geopandas as gpd\n",
    "from shapely.geometry import box"
   ]
  },
  {
   "cell_type": "markdown",
   "metadata": {},
   "source": [
    "## Set parameters"
   ]
  },
  {
   "cell_type": "code",
   "execution_count": 10,
   "metadata": {},
   "outputs": [],
   "source": [
    "# input shapefile of AOI used for downloading Planet images\n",
    "AOI_path='input_data/Rwanda_Boundary.shp'\n",
    "\n",
    "# input folder for the mosaic images\n",
    "input_folder='results'\n",
    "\n",
    "# output folder to store image chunks\n",
    "out_folder=input_folder+'/RGB_chunks'\n",
    "\n",
    "# country/region name\n",
    "country='Rwanda'\n",
    "\n",
    "# year of data\n",
    "str_year='2021'\n",
    "\n",
    "# tiling parameters\n",
    "tile_size=256 # chunk size\n",
    "\n",
    "overlap=4 # number of overlapping pixels between chunks"
   ]
  },
  {
   "cell_type": "code",
   "execution_count": 11,
   "metadata": {},
   "outputs": [],
   "source": [
    "if not os.path.isdir(out_folder):\n",
    "    os.makedirs(out_folder)"
   ]
  },
  {
   "cell_type": "markdown",
   "metadata": {},
   "source": [
    "## Do clipping into chunks and abandon those totally outside AOI or with no crops"
   ]
  },
  {
   "cell_type": "code",
   "execution_count": 12,
   "metadata": {},
   "outputs": [
    {
     "name": "stdout",
     "output_type": "stream",
     "text": [
      "found 6 mosaic images\n"
     ]
    }
   ],
   "source": [
    "images=glob(input_folder+'/'+country+'*_mosaic_clipped.tif')# search files\n",
    "print('found {} mosaic images'.format(len(images)))"
   ]
  },
  {
   "cell_type": "code",
   "execution_count": 13,
   "metadata": {},
   "outputs": [
    {
     "data": {
      "text/html": [
       "<div>\n",
       "<style scoped>\n",
       "    .dataframe tbody tr th:only-of-type {\n",
       "        vertical-align: middle;\n",
       "    }\n",
       "\n",
       "    .dataframe tbody tr th {\n",
       "        vertical-align: top;\n",
       "    }\n",
       "\n",
       "    .dataframe thead th {\n",
       "        text-align: right;\n",
       "    }\n",
       "</style>\n",
       "<table border=\"1\" class=\"dataframe\">\n",
       "  <thead>\n",
       "    <tr style=\"text-align: right;\">\n",
       "      <th></th>\n",
       "      <th>ADM0_CODE</th>\n",
       "      <th>ADM0_NAME</th>\n",
       "      <th>CONTINENT</th>\n",
       "      <th>ISO3</th>\n",
       "      <th>ISO2</th>\n",
       "      <th>UNI</th>\n",
       "      <th>UNDP</th>\n",
       "      <th>FAOSTAT</th>\n",
       "      <th>GAUL</th>\n",
       "      <th>RIC_ISO3</th>\n",
       "      <th>REC_ISO3</th>\n",
       "      <th>HIH</th>\n",
       "      <th>geometry</th>\n",
       "    </tr>\n",
       "  </thead>\n",
       "  <tbody>\n",
       "    <tr>\n",
       "      <th>0</th>\n",
       "      <td>205</td>\n",
       "      <td>Rwanda</td>\n",
       "      <td>Africa</td>\n",
       "      <td>RWA</td>\n",
       "      <td>RW</td>\n",
       "      <td>646.0</td>\n",
       "      <td>RWA</td>\n",
       "      <td>184.0</td>\n",
       "      <td>205.0</td>\n",
       "      <td>ICPAC-RWA</td>\n",
       "      <td>OTHER-RWA</td>\n",
       "      <td>1</td>\n",
       "      <td>POLYGON ((30.46679 -1.06294, 30.46446 -1.06678...</td>\n",
       "    </tr>\n",
       "  </tbody>\n",
       "</table>\n",
       "</div>"
      ],
      "text/plain": [
       "   ADM0_CODE ADM0_NAME CONTINENT ISO3 ISO2    UNI UNDP  FAOSTAT   GAUL  \\\n",
       "0        205    Rwanda    Africa  RWA   RW  646.0  RWA    184.0  205.0   \n",
       "\n",
       "    RIC_ISO3   REC_ISO3  HIH  \\\n",
       "0  ICPAC-RWA  OTHER-RWA    1   \n",
       "\n",
       "                                            geometry  \n",
       "0  POLYGON ((30.46679 -1.06294, 30.46446 -1.06678...  "
      ]
     },
     "execution_count": 13,
     "metadata": {},
     "output_type": "execute_result"
    }
   ],
   "source": [
    "AOIs=gpd.read_file(AOI_path)\n",
    "AOIs"
   ]
  },
  {
   "cell_type": "markdown",
   "metadata": {},
   "source": [
    "- Extract chunk window (starting from left-top coner of mosaic image)\n",
    "- Query DE Africa crop mask within window only when chunk window intersects AOI\n",
    "- Export chunk as RGB bands raster only when crop exists within chunk"
   ]
  },
  {
   "cell_type": "code",
   "execution_count": 14,
   "metadata": {},
   "outputs": [
    {
     "name": "stdout",
     "output_type": "stream",
     "text": [
      "clipping file results/Rwanda_planet_medres_visual_2021_11_mosaic_clipped.tif into chunks...\n"
     ]
    },
    {
     "name": "stderr",
     "output_type": "stream",
     "text": [
      "2023/02/27 10:37:15.0795: [20314]:  WARNING:       mongoc: Falling back to malloc for counters.\n"
     ]
    },
    {
     "name": "stdout",
     "output_type": "stream",
     "text": [
      "clipping file results/Rwanda_planet_medres_visual_2021_04_mosaic_clipped.tif into chunks...\n"
     ]
    },
    {
     "name": "stderr",
     "output_type": "stream",
     "text": [
      "2023/02/27 11:40:03.0481: [20314]:  WARNING:       mongoc: Falling back to malloc for counters.\n"
     ]
    },
    {
     "name": "stdout",
     "output_type": "stream",
     "text": [
      "clipping file results/Rwanda_planet_medres_visual_2021_08_mosaic_clipped.tif into chunks...\n"
     ]
    },
    {
     "name": "stderr",
     "output_type": "stream",
     "text": [
      "2023/02/27 14:41:43.0033: [  601]:  WARNING:       mongoc: Falling back to malloc for counters.\n",
      "2023/02/27 15:26:20.0873: [  601]:  WARNING:       mongoc: Falling back to malloc for counters.\n"
     ]
    },
    {
     "name": "stdout",
     "output_type": "stream",
     "text": [
      "clipping file results/Rwanda_planet_medres_visual_2021_12_mosaic_clipped.tif into chunks...\n",
      "clipping file results/Rwanda_planet_medres_visual_2021_03_mosaic_clipped.tif into chunks...\n"
     ]
    },
    {
     "name": "stderr",
     "output_type": "stream",
     "text": [
      "2023/02/27 18:36:12.0013: [  601]:  WARNING:       mongoc: Falling back to malloc for counters.\n",
      "2023/02/27 18:53:02.0358: [  601]:  WARNING:       mongoc: Falling back to malloc for counters.\n",
      "2023/02/27 19:20:03.0550: [20314]:  WARNING:       mongoc: Falling back to malloc for counters.\n",
      "2023/02/27 19:35:43.0846: [20314]:  WARNING:       mongoc: Falling back to malloc for counters.\n"
     ]
    },
    {
     "name": "stdout",
     "output_type": "stream",
     "text": [
      "clipping file results/Rwanda_planet_medres_visual_2021_10_mosaic_clipped.tif into chunks...\n"
     ]
    },
    {
     "name": "stderr",
     "output_type": "stream",
     "text": [
      "2023/02/27 21:32:22.0840: [  601]:  WARNING:       mongoc: Falling back to malloc for counters.\n",
      "2023/02/27 22:27:29.0531: [20314]:  WARNING:       mongoc: Falling back to malloc for counters.\n"
     ]
    },
    {
     "name": "stdout",
     "output_type": "stream",
     "text": [
      "CPU times: user 16h 34min 10s, sys: 22h 15min 25s, total: 1d 14h 49min 36s\n",
      "Wall time: 13h 15min 14s\n"
     ]
    }
   ],
   "source": [
    "%%time\n",
    "for image in images: # loop through all monthly mosaics\n",
    "    print('clipping file',image,'into chunks...')\n",
    "    \n",
    "    # read in and get information of the mosaic\n",
    "    ds = rasterio.open(image)\n",
    "    crs=ds.crs.to_string()\n",
    "    # x_min,y_min,x_max,y_max=ds.bounds\n",
    "    width,height=ds.width,ds.height\n",
    "    AOIs=AOIs.to_crs(crs)\n",
    "    \n",
    "    id_column=0 # record column id \n",
    "    for column_start in range(0, width-tile_size+overlap, tile_size-overlap):\n",
    "        id_column+=1\n",
    "        id_row=0 # record row id\n",
    "        for row_start in range(0, height-tile_size+overlap, tile_size-overlap):\n",
    "            id_row+=1\n",
    "            \n",
    "            # calculate clipping window\n",
    "            row_end,column_end=row_start+tile_size,column_start+tile_size\n",
    "\n",
    "            # load DE Africa crop mask 2019\n",
    "            x_min,y_max=ds.xy(row_start,column_start)\n",
    "            x_max,y_min=ds.xy(row_end,column_end)\n",
    "            \n",
    "            # get chunk bounding box\n",
    "            chunk_geom=box(x_min,y_min,x_max,y_max)\n",
    "\n",
    "            for index, row in AOIs.iterrows():# only do clipping when quad intersects with AOI\n",
    "                AOI=AOIs.iloc[[index]]\n",
    "                if chunk_geom.intersects(AOI.geometry.iloc[0]):\n",
    "#                     print('intersecting')\n",
    "                    dc = datacube.Datacube(app='cropland_extent')\n",
    "                    query = {\n",
    "                        'time': ('2019'),\n",
    "                        'x': (x_min,x_max),\n",
    "                        'y': (y_min,y_max),\n",
    "                        'resolution':(-10, 10),\n",
    "                        'crs':crs,\n",
    "                    }\n",
    "                    cm = dc.load(product='crop_mask',**query).squeeze()\n",
    "                    np_crop_mask=cm['mask'].to_numpy()\n",
    "\n",
    "                    # only do clipping and exporting if crop exists in the chunk\n",
    "                    if np.nansum(np_crop_mask)>0:\n",
    "                        # NOTE: increase zfill when needed\n",
    "                        outname=os.path.basename(image)\n",
    "                        outname=outname[:outname.index('_mosaic_clipped')]\n",
    "                        outname=os.path.join(out_folder,'_'.join([outname,str(id_row).zfill(3),str(id_column).zfill(3)])+'.tif')\n",
    "                        if not os.path.exists(outname):\n",
    "                            # print('writing to file ',outname)\n",
    "                            gdal_cmd=[\"gdal_translate\", \"-of\", \"GTiff\", \"-b\",\"1\",\"-b\",\"2\",\"-b\",\"3\",'-co','COMPRESS=DEFLATE',\n",
    "                            \"-srcwin\",str(column_start),str(row_start),str(tile_size),str(tile_size),image,outname]\n",
    "                            subprocess.call(gdal_cmd,stdout=subprocess.DEVNULL)\n",
    "                    break\n",
    "    ds=None"
   ]
  },
  {
   "cell_type": "code",
   "execution_count": null,
   "metadata": {},
   "outputs": [],
   "source": [
    "# # test if mosaic correctly removes unwanted chunks\n",
    "# ! gdal_merge.py -o ../experiments/Mozambique_RGB/clipped/mosaic_test.tif -co COMPRESS=Deflate ../experiments/Mozambique_RGB/clipped/*.tif"
   ]
  },
  {
   "cell_type": "code",
   "execution_count": null,
   "metadata": {},
   "outputs": [],
   "source": []
  }
 ],
 "metadata": {
  "kernelspec": {
   "display_name": "Python 3 (ipykernel)",
   "language": "python",
   "name": "python3"
  },
  "language_info": {
   "codemirror_mode": {
    "name": "ipython",
    "version": 3
   },
   "file_extension": ".py",
   "mimetype": "text/x-python",
   "name": "python",
   "nbconvert_exporter": "python",
   "pygments_lexer": "ipython3",
   "version": "3.8.10"
  },
  "vscode": {
   "interpreter": {
    "hash": "01a9736267bf300689e8e016092cd01f0c67384dd94651ae6e139a291bc8cc97"
   }
  }
 },
 "nbformat": 4,
 "nbformat_minor": 4
}
