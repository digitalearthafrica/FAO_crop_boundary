{
 "cells": [
  {
   "cell_type": "markdown",
   "metadata": {},
   "source": [
    "This notebook divides Planet mosaic images into image chunks of 256 by 256 pixels as required by the crop boundary deep learning model. Chunks that are outside the AOIs or contain no cropped areas according to the DE Africa Cropland Extent Map (2019) are not saved."
   ]
  },
  {
   "cell_type": "markdown",
   "metadata": {},
   "source": [
    "## Load packages and modules"
   ]
  },
  {
   "cell_type": "code",
   "execution_count": 1,
   "metadata": {},
   "outputs": [
    {
     "name": "stderr",
     "output_type": "stream",
     "text": [
      "/usr/local/lib/python3.10/dist-packages/geopandas/_compat.py:124: UserWarning: The Shapely GEOS version (3.11.1-CAPI-1.17.1) is incompatible with the GEOS version PyGEOS was compiled with (3.10.4-CAPI-1.16.2). Conversions between both will be slow.\n",
      "  warnings.warn(\n",
      "/tmp/ipykernel_12051/4292342901.py:7: DeprecationWarning: Shapely 2.0 is installed, but because PyGEOS is also installed, GeoPandas still uses PyGEOS by default. However, starting with version 0.14, the default will switch to Shapely. To force to use Shapely 2.0 now, you can either uninstall PyGEOS or set the environment variable USE_PYGEOS=0. You can do this before starting the Python process, or in your code before importing geopandas:\n",
      "\n",
      "import os\n",
      "os.environ['USE_PYGEOS'] = '0'\n",
      "import geopandas\n",
      "\n",
      "In the next release, GeoPandas will switch to using Shapely by default, even if PyGEOS is installed. If you only have PyGEOS installed to get speed-ups, this switch should be smooth. However, if you are using PyGEOS directly (calling PyGEOS functions on geometries from GeoPandas), this will then stop working and you are encouraged to migrate from PyGEOS to Shapely 2.0 (https://shapely.readthedocs.io/en/latest/migration_pygeos.html).\n",
      "  import geopandas as gpd\n"
     ]
    }
   ],
   "source": [
    "from glob import glob\n",
    "import os\n",
    "import subprocess\n",
    "import rasterio\n",
    "import datacube\n",
    "import numpy as np\n",
    "import geopandas as gpd\n",
    "from shapely.geometry import box"
   ]
  },
  {
   "cell_type": "markdown",
   "metadata": {},
   "source": [
    "## Set parameters"
   ]
  },
  {
   "cell_type": "code",
   "execution_count": 2,
   "metadata": {},
   "outputs": [],
   "source": [
    "# input shapefile of AOI used for downloading Planet images\n",
    "# AOI_path='input_data/Rwanda_Boundary.shp'\n",
    "AOI_path='input_data/Rwanda_test_ROI_finetune.shp'\n",
    "\n",
    "# input folder for the mosaic images\n",
    "input_folder='results'\n",
    "\n",
    "# output folder to store image chunks\n",
    "out_folder=input_folder+'/RGB_chunks'\n",
    "\n",
    "# country/region name\n",
    "country='Rwanda'\n",
    "\n",
    "# year of data\n",
    "str_year='2021'\n",
    "\n",
    "# tiling parameters\n",
    "tile_size=256 # chunk size\n",
    "\n",
    "overlap=4 # number of overlapping pixels between chunks"
   ]
  },
  {
   "cell_type": "code",
   "execution_count": 3,
   "metadata": {},
   "outputs": [],
   "source": [
    "if not os.path.isdir(out_folder):\n",
    "    os.makedirs(out_folder)"
   ]
  },
  {
   "cell_type": "markdown",
   "metadata": {},
   "source": [
    "## Clip into chunks and ignore those totally outside AOI or with no crops"
   ]
  },
  {
   "cell_type": "code",
   "execution_count": 4,
   "metadata": {},
   "outputs": [
    {
     "name": "stdout",
     "output_type": "stream",
     "text": [
      "found 6 mosaic images\n"
     ]
    }
   ],
   "source": [
    "images=glob(input_folder+'/'+country+'*_mosaic_clipped.tif')# search files\n",
    "print('found {} mosaic images'.format(len(images)))"
   ]
  },
  {
   "cell_type": "code",
   "execution_count": 5,
   "metadata": {},
   "outputs": [
    {
     "data": {
      "text/html": [
       "<div>\n",
       "<style scoped>\n",
       "    .dataframe tbody tr th:only-of-type {\n",
       "        vertical-align: middle;\n",
       "    }\n",
       "\n",
       "    .dataframe tbody tr th {\n",
       "        vertical-align: top;\n",
       "    }\n",
       "\n",
       "    .dataframe thead th {\n",
       "        text-align: right;\n",
       "    }\n",
       "</style>\n",
       "<table border=\"1\" class=\"dataframe\">\n",
       "  <thead>\n",
       "    <tr style=\"text-align: right;\">\n",
       "      <th></th>\n",
       "      <th>id</th>\n",
       "      <th>geometry</th>\n",
       "    </tr>\n",
       "  </thead>\n",
       "  <tbody>\n",
       "    <tr>\n",
       "      <th>0</th>\n",
       "      <td>NaN</td>\n",
       "      <td>POLYGON ((3365733.406 -181336.951, 3365733.406...</td>\n",
       "    </tr>\n",
       "  </tbody>\n",
       "</table>\n",
       "</div>"
      ],
      "text/plain": [
       "   id                                           geometry\n",
       "0 NaN  POLYGON ((3365733.406 -181336.951, 3365733.406..."
      ]
     },
     "execution_count": 5,
     "metadata": {},
     "output_type": "execute_result"
    }
   ],
   "source": [
    "AOIs=gpd.read_file(AOI_path)\n",
    "AOIs"
   ]
  },
  {
   "cell_type": "markdown",
   "metadata": {},
   "source": [
    "- Extract chunk window (starting from left-top coner of mosaic image)\n",
    "- Query DE Africa crop mask within window only when chunk window intersects AOI\n",
    "- Export chunk as RGB bands raster only when crop exists within chunk"
   ]
  },
  {
   "cell_type": "code",
   "execution_count": 6,
   "metadata": {},
   "outputs": [
    {
     "name": "stdout",
     "output_type": "stream",
     "text": [
      "clipping file results/Rwanda_planet_medres_visual_2021_11_mosaic_clipped.tif into chunks...\n",
      "clipping file results/Rwanda_planet_medres_visual_2021_04_mosaic_clipped.tif into chunks...\n",
      "clipping file results/Rwanda_planet_medres_visual_2021_08_mosaic_clipped.tif into chunks...\n",
      "clipping file results/Rwanda_planet_medres_visual_2021_12_mosaic_clipped.tif into chunks...\n",
      "clipping file results/Rwanda_planet_medres_visual_2021_03_mosaic_clipped.tif into chunks...\n",
      "clipping file results/Rwanda_planet_medres_visual_2021_10_mosaic_clipped.tif into chunks...\n",
      "CPU times: user 14min 14s, sys: 4min 9s, total: 18min 24s\n",
      "Wall time: 29min 10s\n"
     ]
    }
   ],
   "source": [
    "%%time\n",
    "for image in images: # loop through all monthly mosaics\n",
    "    print('clipping file',image,'into chunks...')\n",
    "    \n",
    "    # read in and get information of the mosaic\n",
    "    ds = rasterio.open(image)\n",
    "    crs=ds.crs.to_string()\n",
    "    # x_min,y_min,x_max,y_max=ds.bounds\n",
    "    width,height=ds.width,ds.height\n",
    "    AOIs=AOIs.to_crs(crs)\n",
    "    \n",
    "    id_column=0 # record column id \n",
    "    for column_start in range(0, width-tile_size+overlap, tile_size-overlap):\n",
    "        id_column+=1\n",
    "        id_row=0 # record row id\n",
    "        for row_start in range(0, height-tile_size+overlap, tile_size-overlap):\n",
    "            id_row+=1\n",
    "            \n",
    "            # calculate clipping window\n",
    "            row_end,column_end=row_start+tile_size,column_start+tile_size\n",
    "\n",
    "            # load DE Africa crop mask 2019\n",
    "            x_min,y_max=ds.xy(row_start,column_start)\n",
    "            x_max,y_min=ds.xy(row_end,column_end)\n",
    "            \n",
    "            # get chunk bounding box\n",
    "            chunk_geom=box(x_min,y_min,x_max,y_max)\n",
    "\n",
    "            for index, row in AOIs.iterrows():# only do clipping when quad intersects with AOI\n",
    "                AOI=AOIs.iloc[[index]]\n",
    "                if chunk_geom.intersects(AOI.geometry.iloc[0]):\n",
    "#                     print('intersecting')\n",
    "                    dc = datacube.Datacube(app='cropland_extent')\n",
    "                    query = {\n",
    "                        'time': ('2019'),\n",
    "                        'x': (x_min,x_max),\n",
    "                        'y': (y_min,y_max),\n",
    "                        'resolution':(-10, 10),\n",
    "                        'crs':crs,\n",
    "                    }\n",
    "                    cm = dc.load(product='crop_mask',**query).squeeze()\n",
    "                    np_crop_mask=cm['mask'].to_numpy()\n",
    "\n",
    "                    # only do clipping and exporting if crop exists in the chunk\n",
    "                    if np.nansum(np_crop_mask)>0:\n",
    "                        # NOTE: increase zfill when needed\n",
    "                        outname=os.path.basename(image)\n",
    "                        outname=outname[:outname.index('_mosaic_clipped')]\n",
    "                        outname=os.path.join(out_folder,'_'.join([outname,str(id_row).zfill(3),str(id_column).zfill(3)])+'.tif')\n",
    "                        if not os.path.exists(outname):\n",
    "                            # print('writing to file ',outname)\n",
    "                            gdal_cmd=[\"gdal_translate\", \"-of\", \"GTiff\", \"-b\",\"1\",\"-b\",\"2\",\"-b\",\"3\",'-co','COMPRESS=DEFLATE',\n",
    "                            \"-srcwin\",str(column_start),str(row_start),str(tile_size),str(tile_size),image,outname]\n",
    "                            subprocess.call(gdal_cmd,stdout=subprocess.DEVNULL)\n",
    "                    break\n",
    "    ds=None"
   ]
  },
  {
   "cell_type": "code",
   "execution_count": 7,
   "metadata": {},
   "outputs": [],
   "source": [
    "# # test if mosaic correctly removes unwanted chunks\n",
    "# ! gdal_merge.py -o ../experiments/Mozambique_RGB/clipped/mosaic_test.tif -co COMPRESS=Deflate ../experiments/Mozambique_RGB/clipped/*.tif"
   ]
  },
  {
   "cell_type": "code",
   "execution_count": null,
   "metadata": {},
   "outputs": [],
   "source": []
  }
 ],
 "metadata": {
  "kernelspec": {
   "display_name": "Python 3 (ipykernel)",
   "language": "python",
   "name": "python3"
  },
  "language_info": {
   "codemirror_mode": {
    "name": "ipython",
    "version": 3
   },
   "file_extension": ".py",
   "mimetype": "text/x-python",
   "name": "python",
   "nbconvert_exporter": "python",
   "pygments_lexer": "ipython3",
   "version": "3.10.6"
  },
  "vscode": {
   "interpreter": {
    "hash": "01a9736267bf300689e8e016092cd01f0c67384dd94651ae6e139a291bc8cc97"
   }
  }
 },
 "nbformat": 4,
 "nbformat_minor": 4
}
