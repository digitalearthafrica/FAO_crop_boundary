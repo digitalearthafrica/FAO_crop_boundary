{
 "cells": [
  {
   "cell_type": "markdown",
   "metadata": {},
   "source": [
    "This notebook implments batch downloading of Planet basemap quads of multiple months over pre-defined AOIs and produce a mosaic for each month. Only basemap quads intersecting the AOIs (not just their bounding boxes) will be downloaded. It requires your Planet API Key."
   ]
  },
  {
   "cell_type": "markdown",
   "metadata": {},
   "source": [
    "## Load packages"
   ]
  },
  {
   "cell_type": "code",
   "execution_count": 1,
   "metadata": {},
   "outputs": [
    {
     "name": "stderr",
     "output_type": "stream",
     "text": [
      "/usr/local/lib/python3.8/dist-packages/geopandas/_compat.py:112: UserWarning: The Shapely GEOS version (3.8.0-CAPI-1.13.1 ) is incompatible with the GEOS version PyGEOS was compiled with (3.10.3-CAPI-1.16.1). Conversions between both will be slow.\n",
      "  warnings.warn(\n"
     ]
    }
   ],
   "source": [
    "# import packages\n",
    "import os\n",
    "import json\n",
    "import requests\n",
    "from requests.auth import HTTPBasicAuth # import helper functions to make Basic request to Planet API\n",
    "# import config  # needed if your Planet API key is put in a config file\n",
    "import urllib.request\n",
    "import geopandas as gpd\n",
    "from shapely.geometry import box\n",
    "import subprocess\n"
   ]
  },
  {
   "cell_type": "markdown",
   "metadata": {},
   "source": [
    "## Set parameters"
   ]
  },
  {
   "cell_type": "code",
   "execution_count": 2,
   "metadata": {},
   "outputs": [],
   "source": [
    "# shapefile of AOIs\n",
    "AOI_path='input_data/Rwanda_Boundary.shp'\n",
    "\n",
    "# output folder to put in downloaded quads\n",
    "out_folder = 'results'\n",
    "\n",
    "# year and months to search for and download\n",
    "str_year='2021'\n",
    "# str_months=['02','04','06','08','10','12']\n",
    "str_months=['03','04','08','10','11','12']\n",
    "\n",
    "# product to download, i.e. 3-band RGB visual or 4-band analytic\n",
    "product_prefix='planet_medres_visual_' # 3-band monthly visual mosaic\n",
    "# product_prefix='planet_medres_normalized_analytic_' # 4-band monthly analytic mosaic\n",
    "\n",
    "# country/region name\n",
    "country='Rwanda'\n",
    "# downloaded file name prefix\n",
    "outname_prefix=country+'_'+product_prefix+str_year\n",
    "\n",
    "# Planet base URL\n",
    "API_URL = \"https://api.planet.com/basemaps/v1/mosaics\""
   ]
  },
  {
   "cell_type": "code",
   "execution_count": 3,
   "metadata": {},
   "outputs": [
    {
     "data": {
      "text/html": [
       "<div>\n",
       "<style scoped>\n",
       "    .dataframe tbody tr th:only-of-type {\n",
       "        vertical-align: middle;\n",
       "    }\n",
       "\n",
       "    .dataframe tbody tr th {\n",
       "        vertical-align: top;\n",
       "    }\n",
       "\n",
       "    .dataframe thead th {\n",
       "        text-align: right;\n",
       "    }\n",
       "</style>\n",
       "<table border=\"1\" class=\"dataframe\">\n",
       "  <thead>\n",
       "    <tr style=\"text-align: right;\">\n",
       "      <th></th>\n",
       "      <th>ADM0_CODE</th>\n",
       "      <th>ADM0_NAME</th>\n",
       "      <th>CONTINENT</th>\n",
       "      <th>ISO3</th>\n",
       "      <th>ISO2</th>\n",
       "      <th>UNI</th>\n",
       "      <th>UNDP</th>\n",
       "      <th>FAOSTAT</th>\n",
       "      <th>GAUL</th>\n",
       "      <th>RIC_ISO3</th>\n",
       "      <th>REC_ISO3</th>\n",
       "      <th>HIH</th>\n",
       "      <th>geometry</th>\n",
       "    </tr>\n",
       "  </thead>\n",
       "  <tbody>\n",
       "    <tr>\n",
       "      <th>0</th>\n",
       "      <td>205</td>\n",
       "      <td>Rwanda</td>\n",
       "      <td>Africa</td>\n",
       "      <td>RWA</td>\n",
       "      <td>RW</td>\n",
       "      <td>646.0</td>\n",
       "      <td>RWA</td>\n",
       "      <td>184.0</td>\n",
       "      <td>205.0</td>\n",
       "      <td>ICPAC-RWA</td>\n",
       "      <td>OTHER-RWA</td>\n",
       "      <td>1</td>\n",
       "      <td>POLYGON ((30.46679 -1.06294, 30.46446 -1.06678...</td>\n",
       "    </tr>\n",
       "  </tbody>\n",
       "</table>\n",
       "</div>"
      ],
      "text/plain": [
       "   ADM0_CODE ADM0_NAME CONTINENT ISO3 ISO2    UNI UNDP  FAOSTAT   GAUL  \\\n",
       "0        205    Rwanda    Africa  RWA   RW  646.0  RWA    184.0  205.0   \n",
       "\n",
       "    RIC_ISO3   REC_ISO3  HIH  \\\n",
       "0  ICPAC-RWA  OTHER-RWA    1   \n",
       "\n",
       "                                            geometry  \n",
       "0  POLYGON ((30.46679 -1.06294, 30.46446 -1.06678...  "
      ]
     },
     "execution_count": 3,
     "metadata": {},
     "output_type": "execute_result"
    }
   ],
   "source": [
    "# get bbox from country boundary\n",
    "AOIs=gpd.read_file(AOI_path).to_crs('epsg:4326')\n",
    "AOIs"
   ]
  },
  {
   "cell_type": "code",
   "execution_count": 4,
   "metadata": {},
   "outputs": [],
   "source": [
    "if not os.path.isdir(out_folder):\n",
    "    os.makedirs(out_folder)"
   ]
  },
  {
   "cell_type": "markdown",
   "metadata": {},
   "source": [
    "## Configuration"
   ]
  },
  {
   "cell_type": "code",
   "execution_count": 5,
   "metadata": {},
   "outputs": [],
   "source": [
    "# try to get the API Key from the `PL_API_KEY` environment variable\n",
    "PLANET_API_KEY = os.getenv('PL_API_KEY')\n",
    "\n",
    "# otherwise pass in your API key if not exists\n",
    "if PLANET_API_KEY is None:\n",
    "    PLANET_API_KEY = '' # type in your API key here\n",
    "\n",
    "#setup session\n",
    "session = requests.Session()\n",
    "\n",
    "#authenticate\n",
    "# session.auth = (config.PLANET_API_KEY, \"\")\n",
    "session.auth = (PLANET_API_KEY, \"\")"
   ]
  },
  {
   "cell_type": "markdown",
   "metadata": {},
   "source": [
    "## Access and download quads intersecting AOIs"
   ]
  },
  {
   "cell_type": "code",
   "execution_count": null,
   "metadata": {},
   "outputs": [],
   "source": [
    "file_names={str_month:[] for str_month in str_months} # list of output quad file names"
   ]
  },
  {
   "cell_type": "code",
   "execution_count": null,
   "metadata": {},
   "outputs": [],
   "source": [
    "%%time\n",
    "# loop through all months\n",
    "for str_month in str_months:\n",
    "    \n",
    "    print('querying for month ',str_month)\n",
    "    #set params for search using name of mosaic (can be found through Planet basemap viewer)\n",
    "    parameters = {\n",
    "        \"name__is\" :product_prefix+str_year+'-'+str_month+\"_mosaic\"\n",
    "    }\n",
    "\n",
    "    #make get request to access mosaic from basemaps API\n",
    "    try:\n",
    "        res = session.get(API_URL, params = parameters)\n",
    "    except Exception as e: # reset connection\n",
    "        print(e)\n",
    "        print('resetting connection...')\n",
    "        session = requests.Session()\n",
    "        session.auth = (PLANET_API_KEY, \"\")\n",
    "        res = session.get(API_URL, params = parameters)\n",
    "\n",
    "    #response status code\n",
    "    print('request status code: ',res.status_code)\n",
    "\n",
    "    #print metadata for mosaic\n",
    "    mosaic = res.json()\n",
    "    # print('mosaic metedata:\\n',json.dumps(mosaic, indent=2))\n",
    "\n",
    "    #get mosaic id\n",
    "    mosaic_id = mosaic['mosaics'][0]['id']\n",
    "    print('mosaic ID: ',mosaic_id)\n",
    "\n",
    "    #accessing quads using metadata from mosaic\n",
    "    quads_url = \"{}/{}/quads\".format(API_URL, mosaic_id)\n",
    "\n",
    "    # loop through all geometries\n",
    "    for index, row in AOIs.iterrows():\n",
    "        AOI=AOIs.iloc[[index]]\n",
    "        # get bounding box of single geometry\n",
    "        AOI_bbox=list(AOI.bounds.iloc[0])\n",
    "        print('bounding box of geometry: ',AOI_bbox)\n",
    "\n",
    "        #converting bbox to string for search params\n",
    "        string_bbox = ','.join(map(str, AOI_bbox))\n",
    "\n",
    "        #search for mosaic quad using AOI bbox string\n",
    "        search_parameters = {\n",
    "            'bbox': string_bbox,\n",
    "            'minimal': True,\n",
    "            '_page_size':5000 # IMPORTANT: need to set this (or the '_page'?) if your AOI contains more than 50 quads (the default limit), otherwise you will only get max of 50 records\n",
    "        }\n",
    "\n",
    "        #send request using the url and search parameters\n",
    "        res = session.get(quads_url, params=search_parameters, stream=True)\n",
    "\n",
    "        # return request results as json\n",
    "        quads = res.json()\n",
    "\n",
    "        # extract items, i.e. quads of mosaic\n",
    "        items = quads['items']\n",
    "        print('Number of quads from query: ',len(items))\n",
    "\n",
    "        #iterate over quads and download to a folder\n",
    "        for i in items:\n",
    "            # only download the quads intersecting the AOI instead of just bbox\n",
    "            quad_bbox = i[\"bbox\"]\n",
    "            quad_geom=box(*quad_bbox)\n",
    "            if quad_geom.intersects(AOI.geometry.iloc[0]):\n",
    "\n",
    "                # url link of each quad\n",
    "                link = i['_links']['download']\n",
    "\n",
    "                # set output file name\n",
    "                name =outname_prefix+'_'+str_month+'_id_'+i['id']+ '.tif'\n",
    "                filename = os.path.join(out_folder, name)\n",
    "                if filename not in file_names[str_month]:\n",
    "                    file_names[str_month].append(filename)\n",
    "                # download file if not existing\n",
    "                if not os.path.isfile(filename):\n",
    "                    print('downloading quad as',filename)\n",
    "                    urllib.request.urlretrieve(link, filename)\n",
    "                else:\n",
    "                    print('quad file exists')\n",
    "            else:\n",
    "                print('quad within AOI bounding box but not intersecting AOI')"
   ]
  },
  {
   "cell_type": "markdown",
   "metadata": {},
   "source": [
    "## Mosaic all quads for each month"
   ]
  },
  {
   "cell_type": "code",
   "execution_count": 29,
   "metadata": {},
   "outputs": [
    {
     "name": "stdout",
     "output_type": "stream",
     "text": [
      "mosaicking all quads for month  03\n",
      "mosaicking to file  results/Rwanda_planet_medres_visual_2021_03_mosaic.tif\n",
      "0...10...20...30...40...50...60...70...80...90...100 - done.\n",
      "mosaicking all quads for month  04\n",
      "mosaicking to file  results/Rwanda_planet_medres_visual_2021_04_mosaic.tif\n",
      "0...10...20...30...40...50...60...70...80...90...100 - done.\n",
      "mosaicking all quads for month  08\n",
      "mosaicking to file  results/Rwanda_planet_medres_visual_2021_08_mosaic.tif\n",
      "0...10...20...30...40...50...60...70...80...90...100 - done.\n",
      "mosaicking all quads for month  10\n",
      "mosaic file exists\n",
      "mosaicking all quads for month  11\n",
      "mosaic file exists\n",
      "mosaicking all quads for month  12\n",
      "mosaic file exists\n"
     ]
    }
   ],
   "source": [
    "outnames_mosaic=[]\n",
    "for str_month in str_months:\n",
    "    print('mosaic all quads for month ',str_month)\n",
    "    outname_mosaic=outname_prefix+'_'+str_month+'_mosaic.tif'\n",
    "    outname_mosaic=os.path.join(out_folder, outname_mosaic)\n",
    "    outnames_mosaic.append(outname_mosaic)\n",
    "    if os.path.exists(outname_mosaic):\n",
    "        print('mosaic file exists')\n",
    "    else:\n",
    "        print('mosaic to file ',outname_mosaic)\n",
    "        quad_files=[fn for fn in file_names[str_month]]\n",
    "        cmd=['gdal_merge.py','-co','COMPRESS=DEFLATE','-co','BIGTIFF=IF_SAFER','-o',outname_mosaic]\n",
    "        cmd.extend(quad_file for quad_file in quad_files)\n",
    "        # using gdal to merge\n",
    "        subprocess.run(cmd)"
   ]
  },
  {
   "cell_type": "markdown",
   "metadata": {},
   "source": [
    "## Delete quad files to save space (optional)"
   ]
  },
  {
   "cell_type": "code",
   "execution_count": 30,
   "metadata": {},
   "outputs": [],
   "source": [
    "for str_month in str_months:\n",
    "    quad_files=file_names[str_month]\n",
    "    for fn in quad_files:\n",
    "        if os.path.exists(fn):\n",
    "            os.remove(fn)"
   ]
  },
  {
   "cell_type": "markdown",
   "metadata": {},
   "source": [
    "## Clip mosaics to buffered AOIs, extract RGB bands and delete unclipped mosaics (to save space)"
   ]
  },
  {
   "cell_type": "code",
   "execution_count": 32,
   "metadata": {},
   "outputs": [],
   "source": [
    "buffer_dist=1300 # make slightly larger than a chunk size (e.g. 256 pixels) to ensure no pixels in chunks overlapping the AOI will be clipped out\n",
    "buffered_AOI=AOIs.to_crs('epsg:3857').buffer(buffer_dist)\n",
    "buffered_AOI_path=os.path.basename(AOI_path)[:-4]+'_buffered_'+str(buffer_dist)+'m.shp'\n",
    "buffered_AOI_path=os.path.join(out_folder,buffered_AOI_path)\n",
    "buffered_AOI.to_file(buffered_AOI_path)"
   ]
  },
  {
   "cell_type": "code",
   "execution_count": 39,
   "metadata": {},
   "outputs": [
    {
     "name": "stdout",
     "output_type": "stream",
     "text": [
      "clipping results/Rwanda_planet_medres_visual_2021_03_mosaic.tif\n",
      "Using band 4 of source image as alpha.\n",
      "Creating output file that is 48027P x 42325L.\n",
      "Processing results/Rwanda_planet_medres_visual_2021_03_mosaic.tif [1/1] : 0...10...20...30...40...50...60...70...80...90...100 - done.\n",
      "Input file size is 48027, 42325\n",
      "0...10...20...30...40...50...60...70...80...90...100 - done.\n",
      "clipping results/Rwanda_planet_medres_visual_2021_04_mosaic.tif\n",
      "Using band 4 of source image as alpha.\n",
      "Creating output file that is 48027P x 42325L.\n",
      "Processing results/Rwanda_planet_medres_visual_2021_04_mosaic.tif [1/1] : 0...10...20...30...40...50...60...70...80...90...100 - done.\n",
      "Input file size is 48027, 42325\n",
      "0...10...20...30...40...50...60...70...80...90...100 - done.\n",
      "clipping results/Rwanda_planet_medres_visual_2021_08_mosaic.tif\n",
      "Using band 4 of source image as alpha.\n",
      "Creating output file that is 48027P x 42325L.\n",
      "Processing results/Rwanda_planet_medres_visual_2021_08_mosaic.tif [1/1] : 0...10...20...30...40...50...60...70...80...90...100 - done.\n",
      "Input file size is 48027, 42325\n",
      "0...10...20...30...40...50...60...70...80...90...100 - done.\n",
      "clipping results/Rwanda_planet_medres_visual_2021_10_mosaic.tif\n",
      "Using band 4 of source image as alpha.\n",
      "Creating output file that is 48027P x 42325L.\n",
      "Processing results/Rwanda_planet_medres_visual_2021_10_mosaic.tif [1/1] : 0...10...20...30...40...50...60...70...80...90...100 - done.\n",
      "Input file size is 48027, 42325\n",
      "0...10...20...30...40...50...60...70...80...90...100 - done.\n",
      "clipping results/Rwanda_planet_medres_visual_2021_11_mosaic.tif\n",
      "Using band 4 of source image as alpha.\n",
      "Creating output file that is 48027P x 42325L.\n",
      "Processing results/Rwanda_planet_medres_visual_2021_11_mosaic.tif [1/1] : 0...10...20...30...40...50...60...70...80...90...100 - done.\n",
      "Input file size is 48027, 42325\n",
      "0...10...20...30...40...50...60...70...80...90...100 - done.\n",
      "clipping results/Rwanda_planet_medres_visual_2021_12_mosaic.tif\n",
      "Using band 4 of source image as alpha.\n",
      "Creating output file that is 48027P x 42325L.\n",
      "Processing results/Rwanda_planet_medres_visual_2021_12_mosaic.tif [1/1] : 0...10...20...30...40...50...60...70...80...90...100 - done.\n",
      "Input file size is 48027, 42325\n",
      "0...10...20...30...40...50...60...70...80...90...100 - done.\n"
     ]
    }
   ],
   "source": [
    "for mosaic in outnames_mosaic:\n",
    "    print('clipping',mosaic)\n",
    "    outname=mosaic[:-4]+'_clipped.tif'\n",
    "    if os.path.exists(outname):\n",
    "        print('clipped mosaic file exists')\n",
    "    else:\n",
    "        # clip to AOI\n",
    "        outname_temp=mosaic[:-4]+'_intermediate.tif'\n",
    "        gdal_cmd=[\"gdalwarp\", \"-of\", \"GTiff\", '-cutline',buffered_AOI_path,'-crop_to_cutline',\n",
    "                  '-co','COMPRESS=DEFLATE',mosaic,outname_temp]\n",
    "        p1=subprocess.run(gdal_cmd)\n",
    "        # extract bands and compress\n",
    "        gdal_cmd=[\"gdal_translate\", \"-of\", \"GTiff\", '-b','1','-b','2','-b','3','-co','COMPRESS=DEFLATE',outname_temp,outname]\n",
    "        p2=subprocess.run(gdal_cmd)\n",
    "        if (p1.returncode==0)and(p2.returncode==0):\n",
    "            # delete intermediate mosaic\n",
    "            os.remove(outname_temp)\n",
    "            # delete unclipped mosaic\n",
    "            os.remove(mosaic)"
   ]
  }
 ],
 "metadata": {
  "kernelspec": {
   "display_name": "Python 3 (ipykernel)",
   "language": "python",
   "name": "python3"
  },
  "language_info": {
   "codemirror_mode": {
    "name": "ipython",
    "version": 3
   },
   "file_extension": ".py",
   "mimetype": "text/x-python",
   "name": "python",
   "nbconvert_exporter": "python",
   "pygments_lexer": "ipython3",
   "version": "3.8.10"
  },
  "vscode": {
   "interpreter": {
    "hash": "01a9736267bf300689e8e016092cd01f0c67384dd94651ae6e139a291bc8cc97"
   }
  }
 },
 "nbformat": 4,
 "nbformat_minor": 4
}
