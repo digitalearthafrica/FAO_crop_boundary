{
 "cells": [
  {
   "cell_type": "markdown",
   "metadata": {},
   "source": [
    "Notebook to rasterise and clip crop field validation polygons, so that the validation extent and boundary chunks have the same size as the Planet RGB chunks. "
   ]
  },
  {
   "cell_type": "markdown",
   "metadata": {},
   "source": [
    "## Load packages and modules"
   ]
  },
  {
   "cell_type": "code",
   "execution_count": 1,
   "metadata": {},
   "outputs": [
    {
     "name": "stderr",
     "output_type": "stream",
     "text": [
      "/usr/local/lib/python3.8/dist-packages/geopandas/_compat.py:112: UserWarning: The Shapely GEOS version (3.8.0-CAPI-1.13.1 ) is incompatible with the GEOS version PyGEOS was compiled with (3.10.3-CAPI-1.16.1). Conversions between both will be slow.\n",
      "  warnings.warn(\n"
     ]
    }
   ],
   "source": [
    "from glob import glob\n",
    "import os\n",
    "import rasterio\n",
    "from rasterio import features\n",
    "import numpy as np\n",
    "import geopandas as gpd\n",
    "import sys\n",
    "import cv2"
   ]
  },
  {
   "cell_type": "markdown",
   "metadata": {},
   "source": [
    "## Set parameters"
   ]
  },
  {
   "cell_type": "code",
   "execution_count": 2,
   "metadata": {},
   "outputs": [],
   "source": [
    "# input vector file of the validation crop field polygons\n",
    "crop_field_path='input_data/Crop field boundry mapping Mozambique.shp'\n",
    "\n",
    "# input folder for the Planet image chunks\n",
    "input_folder='results/RGB_chunks'\n",
    "\n",
    "# output folder to store validation rasters\n",
    "out_folder='results/groundtruth'\n",
    "\n",
    "# prefix of output validation field exents and boundaries rasters\n",
    "country='Mozambique'\n",
    "prefix_extent=country+'_groundtruth_crop_field_extent_'\n",
    "prefix_bound=country+'_groundtruth_crop_field_bound_'"
   ]
  },
  {
   "cell_type": "markdown",
   "metadata": {},
   "source": [
    "## Search for RGB image chunks and read validation polygons"
   ]
  },
  {
   "cell_type": "code",
   "execution_count": 3,
   "metadata": {},
   "outputs": [
    {
     "name": "stdout",
     "output_type": "stream",
     "text": [
      "found 1007 Planet RGB chunks\n"
     ]
    }
   ],
   "source": [
    "# strings of the year and a month to search for RGB chunks\n",
    "str_year='2021'\n",
    "str_month='12'\n",
    "# search Planet image chunks\n",
    "fn_prefix='Mozambique_planet_medres_visual_'\n",
    "images=glob(input_folder+'/'+fn_prefix+str_year+'_'+str_month+'*.tif')\n",
    "print('found {} Planet RGB chunks'.format(len(images)))"
   ]
  },
  {
   "cell_type": "code",
   "execution_count": 4,
   "metadata": {},
   "outputs": [
    {
     "name": "stdout",
     "output_type": "stream",
     "text": [
      "1691 polygons in the vector validation file\n"
     ]
    }
   ],
   "source": [
    "crop_field=gpd.read_file(crop_field_path)\n",
    "print('{} polygons in the vector validation file'.format(len(crop_field)))"
   ]
  },
  {
   "cell_type": "code",
   "execution_count": 5,
   "metadata": {},
   "outputs": [],
   "source": [
    "if not os.path.isdir(out_folder):\n",
    "    os.makedirs(out_folder)"
   ]
  },
  {
   "cell_type": "markdown",
   "metadata": {},
   "source": [
    "## Rasterise field polygons to field extent and boundary chunks with empty chunks excluded\n",
    "- Rasterise field polygon shapefile to extent of each Planet RGB chunk\n",
    "- Extract field extent raster (boundary excluded to keep crop fields disconnected)\n",
    "- Extract field boundary raster (2 pixels dilation)\n",
    "- Export above two rasters only if field exists in chunk"
   ]
  },
  {
   "cell_type": "code",
   "execution_count": 6,
   "metadata": {},
   "outputs": [],
   "source": [
    "for image in images:\n",
    "    # open raster\n",
    "    ds=rasterio.open(image)\n",
    "    crs=ds.crs.to_string()\n",
    "\n",
    "    # reproject to the same crs\n",
    "    crop_field=crop_field.to_crs(crs)\n",
    "\n",
    "    # Get list of geometries for all features in vector file\n",
    "    geoms = [shape for shape in crop_field.geometry]\n",
    "\n",
    "    # Rasterize polygon to get initial extent (boundary included)\n",
    "    extent = rasterio.features.rasterize(geoms,\n",
    "                                    out_shape = ds.shape,\n",
    "                                    fill = 0,\n",
    "                                    out = None,\n",
    "                                    transform = ds.transform,\n",
    "                                    all_touched = False,\n",
    "                                    default_value = 1,\n",
    "                                    dtype = None)\n",
    "    # rasterise boundary of polygon\n",
    "    geoms_bound=[geom.boundary for geom in geoms]\n",
    "    bound=rasterio.features.rasterize(geoms_bound,\n",
    "                                    out_shape = ds.shape,\n",
    "                                    fill = 0,\n",
    "                                    out = None,\n",
    "                                    transform = ds.transform,\n",
    "                                    all_touched = True,\n",
    "                                    default_value = 1,\n",
    "                                    dtype = None)\n",
    "    \n",
    "    # remove field boundary pixels from extent so that the fields are not connected\n",
    "    extent[bound==1]=0\n",
    "    \n",
    "    # dilate field boundary\n",
    "    bound = cv2.dilate(bound,cv2.getStructuringElement(cv2.MORPH_CROSS,(2,2)),iterations = 1)\n",
    "    \n",
    "    # export chunk if not empty\n",
    "    if np.nansum(extent)>0:\n",
    "        # extract metadata from RGB chunk\n",
    "        kwargs = ds.meta\n",
    "        kwargs.update(dtype=rasterio.uint8,count=1,compress='deflate')\n",
    "        chunk_id=os.path.basename(image)[:-4].split('_')[-2:]\n",
    "        \n",
    "        # save extent chunk raster\n",
    "        out_exent=os.path.join(out_folder, prefix_extent+'_'.join(chunk_id)+'.tif')\n",
    "        with rasterio.open(out_exent, 'w', **kwargs) as dst:\n",
    "            dst.write_band(1, extent)   \n",
    "        # save boundary chunk raster\n",
    "        out_bound=os.path.join(out_folder, prefix_bound+'_'.join(chunk_id)+'.tif')\n",
    "        with rasterio.open(out_bound, 'w', **kwargs) as dst:\n",
    "            dst.write_band(1, bound)\n",
    "    ds=None"
   ]
  },
  {
   "cell_type": "code",
   "execution_count": 22,
   "metadata": {},
   "outputs": [
    {
     "name": "stdout",
     "output_type": "stream",
     "text": [
      "0...10...20...30...40...50...60...70...80...90...100 - done.\n",
      "0...10...20...30...40...50...60...70...80...90...100 - done.\n"
     ]
    }
   ],
   "source": [
    "# do mosaic to test if chunks correctly covered all fields\n",
    "! gdal_merge.py -o results/groundtruth/Mozmabique_extent_mosaic.tif -co COMPRESS=Deflate results/groundtruth/Mozambique_groundtruth_crop_field_extent*.tif\n",
    "! gdal_merge.py -o results/groundtruth/Mozmabique_bound_mosaic.tif -co COMPRESS=Deflate results/groundtruth/Mozambique_groundtruth_crop_field_bound*.tif"
   ]
  },
  {
   "cell_type": "code",
   "execution_count": null,
   "metadata": {},
   "outputs": [],
   "source": []
  }
 ],
 "metadata": {
  "kernelspec": {
   "display_name": "Python 3 (ipykernel)",
   "language": "python",
   "name": "python3"
  },
  "language_info": {
   "codemirror_mode": {
    "name": "ipython",
    "version": 3
   },
   "file_extension": ".py",
   "mimetype": "text/x-python",
   "name": "python",
   "nbconvert_exporter": "python",
   "pygments_lexer": "ipython3",
   "version": "3.8.10"
  },
  "vscode": {
   "interpreter": {
    "hash": "01a9736267bf300689e8e016092cd01f0c67384dd94651ae6e139a291bc8cc97"
   }
  }
 },
 "nbformat": 4,
 "nbformat_minor": 4
}
