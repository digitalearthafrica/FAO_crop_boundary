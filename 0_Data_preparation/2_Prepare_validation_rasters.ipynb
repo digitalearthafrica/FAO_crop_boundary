{
 "cells": [
  {
   "cell_type": "markdown",
   "metadata": {},
   "source": [
    "This notebook generates raster validation images with the same size as the Planet RGB image chunks. The input field boundary validation data can be provided in raster or vector format. "
   ]
  },
  {
   "cell_type": "markdown",
   "metadata": {},
   "source": [
    "## Load packages and modules"
   ]
  },
  {
   "cell_type": "code",
   "execution_count": 9,
   "metadata": {},
   "outputs": [],
   "source": [
    "from glob import glob\n",
    "import os\n",
    "import rasterio\n",
    "from rasterio import features\n",
    "import numpy as np\n",
    "import geopandas as gpd\n",
    "import sys\n",
    "import cv2\n",
    "from shapely.geometry import box\n",
    "from scipy import ndimage\n",
    "from skimage import morphology,measure\n",
    "import subprocess"
   ]
  },
  {
   "cell_type": "markdown",
   "metadata": {},
   "source": [
    "## Set parameters"
   ]
  },
  {
   "cell_type": "code",
   "execution_count": 6,
   "metadata": {},
   "outputs": [],
   "source": [
    "# input vector or raster file of the validation crop field polygons\n",
    "# crop_field_path='input_data/Crop field boundry mapping Mozambique.shp'\n",
    "crop_field_path='input_data/nasa_rwanda_field_boundary_competition_labels_train_mosaic.tif'\n",
    "\n",
    "# input folder for the Planet image chunks\n",
    "input_folder='results/RGB_chunks'\n",
    "\n",
    "# output folder to store validation rasters\n",
    "out_folder='results/groundtruth'\n",
    "\n",
    "# prefix of output validation field exents and boundaries rasters\n",
    "country='Rwanda'\n",
    "prefix_extent=country+'_groundtruth_crop_field_extent_'\n",
    "prefix_bound=country+'_groundtruth_crop_field_bound_'"
   ]
  },
  {
   "cell_type": "markdown",
   "metadata": {},
   "source": [
    "## Search for RGB image chunks"
   ]
  },
  {
   "cell_type": "code",
   "execution_count": 4,
   "metadata": {},
   "outputs": [
    {
     "name": "stdout",
     "output_type": "stream",
     "text": [
      "found 18113 Planet RGB chunks\n"
     ]
    }
   ],
   "source": [
    "# strings of the year and a month to search for RGB chunks\n",
    "str_year='2021'\n",
    "str_month='12'\n",
    "# search Planet image chunks\n",
    "fn_prefix=country+'_planet_medres_visual_'\n",
    "images=glob(input_folder+'/'+fn_prefix+str_year+'_'+str_month+'*.tif')\n",
    "print('found {} Planet RGB chunks'.format(len(images)))"
   ]
  },
  {
   "cell_type": "code",
   "execution_count": 5,
   "metadata": {},
   "outputs": [],
   "source": [
    "if not os.path.isdir(out_folder):\n",
    "    os.makedirs(out_folder)"
   ]
  },
  {
   "cell_type": "markdown",
   "metadata": {},
   "source": [
    "## Prepare validation data chunks\n",
    "\n",
    "If field boundaries are provided as vector, following steps are carried out first:\n",
    "- Rasterise field polygon shapefile to extent of Planet RGB chunks\n",
    "- Extract field extent raster (boundary excluded to keep crop fields disconnected)\n",
    "- Extract field boundary raster (optionally with a 2 pixel dilation)\n",
    "\n",
    "Rasters are saved only if they contain crop fields."
   ]
  },
  {
   "cell_type": "code",
   "execution_count": null,
   "metadata": {},
   "outputs": [
    {
     "name": "stdout",
     "output_type": "stream",
     "text": [
      "reading crop field boundary in raster format\n",
      "bbox of validation raster:  POLYGON ((3386733.6303 -177052.044, 3386733.6303 -154923.5244, 3372076.8301 -154923.5244, 3372076.8301 -177052.044, 3386733.6303 -177052.044))\n"
     ]
    },
    {
     "name": "stderr",
     "output_type": "stream",
     "text": [
      "Warning 1: Computed -srcwin -77 4067 256 256 falls partially outside raster extent. Going on however.\n",
      "Warning 1: Computed -srcwin -77 4067 256 256 falls partially outside raster extent. Going on however.\n",
      "Warning 1: Computed -srcwin 1435 4571 256 256 falls partially outside raster extent. Going on however.\n",
      "Warning 1: Computed -srcwin 1435 4571 256 256 falls partially outside raster extent. Going on however.\n",
      "Warning 1: Computed -srcwin -77 287 256 256 falls partially outside raster extent. Going on however.\n",
      "Warning 1: Computed -srcwin -77 287 256 256 falls partially outside raster extent. Going on however.\n",
      "Warning 1: Computed -srcwin 1687 -217 256 256 falls partially outside raster extent. Going on however.\n",
      "Warning 1: Computed -srcwin 1687 -217 256 256 falls partially outside raster extent. Going on however.\n",
      "Warning 1: Computed -srcwin 2947 4319 256 256 falls partially outside raster extent. Going on however.\n",
      "Warning 1: Computed -srcwin 2947 4319 256 256 falls partially outside raster extent. Going on however.\n",
      "Warning 1: Computed -srcwin 2695 4571 256 256 falls partially outside raster extent. Going on however.\n",
      "Warning 1: Computed -srcwin 2695 4571 256 256 falls partially outside raster extent. Going on however.\n",
      "Warning 1: Computed -srcwin 1435 -217 256 256 falls partially outside raster extent. Going on however.\n",
      "Warning 1: Computed -srcwin 1435 -217 256 256 falls partially outside raster extent. Going on however.\n",
      "Warning 1: Computed -srcwin -77 2555 256 256 falls partially outside raster extent. Going on however.\n",
      "Warning 1: Computed -srcwin -77 2555 256 256 falls partially outside raster extent. Going on however.\n",
      "Warning 1: Computed -srcwin 2947 3815 256 256 falls partially outside raster extent. Going on however.\n",
      "Warning 1: Computed -srcwin 2947 3815 256 256 falls partially outside raster extent. Going on however.\n",
      "Warning 1: Computed -srcwin 679 -217 256 256 falls partially outside raster extent. Going on however.\n",
      "Warning 1: Computed -srcwin 679 -217 256 256 falls partially outside raster extent. Going on however.\n",
      "Warning 1: Computed -srcwin 2947 791 256 256 falls partially outside raster extent. Going on however.\n",
      "Warning 1: Computed -srcwin 2947 791 256 256 falls partially outside raster extent. Going on however.\n",
      "Warning 1: Computed -srcwin 1183 4571 256 256 falls partially outside raster extent. Going on however.\n",
      "Warning 1: Computed -srcwin 1183 4571 256 256 falls partially outside raster extent. Going on however.\n",
      "Warning 1: Computed -srcwin -77 3815 256 256 falls partially outside raster extent. Going on however.\n",
      "Warning 1: Computed -srcwin -77 3815 256 256 falls partially outside raster extent. Going on however.\n",
      "Warning 1: Computed -srcwin 679 4571 256 256 falls partially outside raster extent. Going on however.\n",
      "Warning 1: Computed -srcwin 679 4571 256 256 falls partially outside raster extent. Going on however.\n",
      "Warning 1: Computed -srcwin 2947 1043 256 256 falls partially outside raster extent. Going on however.\n",
      "Warning 1: Computed -srcwin 2947 1043 256 256 falls partially outside raster extent. Going on however.\n",
      "Warning 1: Computed -srcwin 175 -217 256 256 falls partially outside raster extent. Going on however.\n",
      "Warning 1: Computed -srcwin 175 -217 256 256 falls partially outside raster extent. Going on however.\n",
      "Warning 1: Computed -srcwin 1687 4571 256 256 falls partially outside raster extent. Going on however.\n",
      "Warning 1: Computed -srcwin 1687 4571 256 256 falls partially outside raster extent. Going on however.\n",
      "Warning 1: Computed -srcwin 2947 1799 256 256 falls partially outside raster extent. Going on however.\n",
      "Warning 1: Computed -srcwin 2947 1799 256 256 falls partially outside raster extent. Going on however.\n",
      "Warning 1: Computed -srcwin 2947 2555 256 256 falls partially outside raster extent. Going on however.\n",
      "Warning 1: Computed -srcwin 2947 2555 256 256 falls partially outside raster extent. Going on however.\n",
      "Warning 1: Computed -srcwin 2191 4571 256 256 falls partially outside raster extent. Going on however.\n",
      "Warning 1: Computed -srcwin 2191 4571 256 256 falls partially outside raster extent. Going on however.\n",
      "Warning 1: Computed -srcwin 427 -217 256 256 falls partially outside raster extent. Going on however.\n",
      "Warning 1: Computed -srcwin 427 -217 256 256 falls partially outside raster extent. Going on however.\n",
      "Warning 1: Computed -srcwin 2947 539 256 256 falls partially outside raster extent. Going on however.\n",
      "Warning 1: Computed -srcwin 2947 539 256 256 falls partially outside raster extent. Going on however.\n",
      "Warning 1: Computed -srcwin -77 1043 256 256 falls partially outside raster extent. Going on however.\n",
      "Warning 1: Computed -srcwin -77 1043 256 256 falls partially outside raster extent. Going on however.\n",
      "Warning 1: Computed -srcwin 931 4571 256 256 falls partially outside raster extent. Going on however.\n",
      "Warning 1: Computed -srcwin 931 4571 256 256 falls partially outside raster extent. Going on however.\n",
      "Warning 1: Computed -srcwin 2947 1547 256 256 falls partially outside raster extent. Going on however.\n",
      "Warning 1: Computed -srcwin 2947 1547 256 256 falls partially outside raster extent. Going on however.\n",
      "Warning 1: Computed -srcwin -77 3563 256 256 falls partially outside raster extent. Going on however.\n",
      "Warning 1: Computed -srcwin -77 3563 256 256 falls partially outside raster extent. Going on however.\n",
      "Warning 1: Computed -srcwin 427 4571 256 256 falls partially outside raster extent. Going on however.\n",
      "Warning 1: Computed -srcwin 427 4571 256 256 falls partially outside raster extent. Going on however.\n",
      "Warning 1: Computed -srcwin -77 3059 256 256 falls partially outside raster extent. Going on however.\n",
      "Warning 1: Computed -srcwin -77 3059 256 256 falls partially outside raster extent. Going on however.\n",
      "Warning 1: Computed -srcwin -77 1547 256 256 falls partially outside raster extent. Going on however.\n",
      "Warning 1: Computed -srcwin -77 1547 256 256 falls partially outside raster extent. Going on however.\n",
      "Warning 1: Computed -srcwin 2947 2807 256 256 falls partially outside raster extent. Going on however.\n",
      "Warning 1: Computed -srcwin 2947 2807 256 256 falls partially outside raster extent. Going on however.\n",
      "Warning 1: Computed -srcwin 2947 3311 256 256 falls partially outside raster extent. Going on however.\n",
      "Warning 1: Computed -srcwin 2947 3311 256 256 falls partially outside raster extent. Going on however.\n",
      "Warning 1: Computed -srcwin 2443 4571 256 256 falls partially outside raster extent. Going on however.\n",
      "Warning 1: Computed -srcwin 2443 4571 256 256 falls partially outside raster extent. Going on however.\n",
      "Warning 1: Computed -srcwin 2191 -217 256 256 falls partially outside raster extent. Going on however.\n",
      "Warning 1: Computed -srcwin 2191 -217 256 256 falls partially outside raster extent. Going on however.\n",
      "Warning 1: Computed -srcwin 1939 -217 256 256 falls partially outside raster extent. Going on however.\n",
      "Warning 1: Computed -srcwin 1939 -217 256 256 falls partially outside raster extent. Going on however.\n",
      "Warning 1: Computed -srcwin 175 4571 256 256 falls partially outside raster extent. Going on however.\n",
      "Warning 1: Computed -srcwin 175 4571 256 256 falls partially outside raster extent. Going on however.\n",
      "Warning 1: Computed -srcwin -77 35 256 256 falls partially outside raster extent. Going on however.\n",
      "Warning 1: Computed -srcwin -77 35 256 256 falls partially outside raster extent. Going on however.\n",
      "Warning 1: Computed -srcwin 2947 -217 256 256 falls partially outside raster extent. Going on however.\n",
      "Warning 1: Computed -srcwin 2947 -217 256 256 falls partially outside raster extent. Going on however.\n",
      "Warning 1: Computed -srcwin 2947 4571 256 256 falls partially outside raster extent. Going on however.\n",
      "Warning 1: Computed -srcwin 2947 4571 256 256 falls partially outside raster extent. Going on however.\n",
      "Warning 1: Computed -srcwin -77 2303 256 256 falls partially outside raster extent. Going on however.\n",
      "Warning 1: Computed -srcwin -77 2303 256 256 falls partially outside raster extent. Going on however.\n",
      "Warning 1: Computed -srcwin -77 -217 256 256 falls partially outside raster extent. Going on however.\n",
      "Warning 1: Computed -srcwin -77 -217 256 256 falls partially outside raster extent. Going on however.\n",
      "Warning 1: Computed -srcwin 2947 4067 256 256 falls partially outside raster extent. Going on however.\n",
      "Warning 1: Computed -srcwin 2947 4067 256 256 falls partially outside raster extent. Going on however.\n"
     ]
    }
   ],
   "source": [
    "if (crop_field_path.split('.')[-1]=='geojson') or (crop_field_path.split('.')[-1]=='shp'):\n",
    "    print('reading crop field boundary in vector format')\n",
    "    \n",
    "    # open one raster to check crs\n",
    "    ds=rasterio.open(images[0])\n",
    "    crs=ds.crs.to_string()\n",
    "    \n",
    "    # read in vector polygons\n",
    "    crop_field=gpd.read_file(crop_field_path)\n",
    "    # reproject to the same crs\n",
    "    crop_field=crop_field.to_crs(crs)\n",
    "\n",
    "    print('{} polygons in the vector validation file'.format(len(crop_field)))\n",
    "    # Get list of geometries for all features in vector file\n",
    "    geoms = [shape for shape in crop_field.geometry]\n",
    "    geoms_bound=[geom.boundary for geom in geoms]\n",
    "    for image in images: # loop through chunks\n",
    "        # open raster\n",
    "        ds=rasterio.open(image)\n",
    "        crs=ds.crs.to_string()\n",
    "\n",
    "        # reproject to the same crs\n",
    "        #crop_field=crop_field.to_crs(crs)\n",
    "\n",
    "        # Rasterize polygon to get initial extent (boundary included)\n",
    "        extent = rasterio.features.rasterize(geoms,\n",
    "                                        out_shape = ds.shape,\n",
    "                                        fill = 0,\n",
    "                                        out = None,\n",
    "                                        transform = ds.transform,\n",
    "                                        all_touched = False,\n",
    "                                        default_value = 1,\n",
    "                                        dtype = None)\n",
    "        # rasterise boundary of polygon\n",
    "        bound=rasterio.features.rasterize(geoms_bound,\n",
    "                                        out_shape = ds.shape,\n",
    "                                        fill = 0,\n",
    "                                        out = None,\n",
    "                                        transform = ds.transform,\n",
    "                                        all_touched = True,\n",
    "                                        default_value = 1,\n",
    "                                        dtype = None)\n",
    "\n",
    "        # remove field boundary pixels from extent so that the fields are not connected\n",
    "        extent[bound==1]=0\n",
    "\n",
    "        # dilate field boundary\n",
    "#         bound = cv2.dilate(bound,cv2.getStructuringElement(cv2.MORPH_CROSS,(2,2)),iterations = 1)\n",
    "\n",
    "        # export chunk if not empty\n",
    "        if np.nansum(extent)>0:\n",
    "            # extract metadata from RGB chunk\n",
    "            kwargs = ds.meta\n",
    "            kwargs.update(dtype=rasterio.uint8,count=1,compress='deflate')\n",
    "            chunk_id=os.path.basename(image)[:-4].split('_')[-2:]\n",
    "\n",
    "            # save extent chunk raster\n",
    "            out_exent=os.path.join(out_folder, prefix_extent+'_'.join(chunk_id)+'.tif')\n",
    "            with rasterio.open(out_exent, 'w', **kwargs) as dst:\n",
    "                dst.write_band(1, extent)   \n",
    "            # save boundary chunk raster\n",
    "            out_bound=os.path.join(out_folder, prefix_bound+'_'.join(chunk_id)+'.tif')\n",
    "            with rasterio.open(out_bound, 'w', **kwargs) as dst:\n",
    "                dst.write_band(1, bound)\n",
    "        ds=None\n",
    "elif crop_field_path.split('.')[-1]=='tif':\n",
    "    print('reading crop field boundary in raster format')\n",
    "    \n",
    "    # read in mosaic tif\n",
    "    ds_validation=rasterio.open(crop_field_path)\n",
    "    np_label=ds_validation.read(1)\n",
    "    \n",
    "    # get bounding box\n",
    "    validation_bbox=box(*ds_validation.bounds)\n",
    "    print('bbox of validation raster: ',validation_bbox)\n",
    "    \n",
    "    # get extent from boundary\n",
    "    # get extent areas by filling holes of boundaries\n",
    "    np_extent=ndimage.binary_fill_holes(np_label)\n",
    "    # close boundaries using diamond kernel size of 1 (not exactly equal to cv2.MORPH_CROSS) to fill small gaps between boundaries\n",
    "    np_label_closed=morphology.closing(np_label,footprint=morphology.diamond(1))\n",
    "    # exclude closed boundaries from exent\n",
    "    np_extent[np_label_closed==1]=0\n",
    "    \n",
    "    # export mosaic extent as geotiff\n",
    "    kwargs = ds_validation.meta\n",
    "    kwargs.update(dtype=rasterio.uint8,count=1,compress='deflate')\n",
    "    mosaic_extent=os.path.join(out_folder, country+'_valiadation_field_extent_mosaic.tif')\n",
    "    with rasterio.open(mosaic_extent, 'w', **kwargs) as dst:\n",
    "        dst.write_band(1, np_extent)\n",
    "        \n",
    "    # identify chunks intersecting the validation extent/boundary raster\n",
    "    for image in images:\n",
    "        ds_chunk=rasterio.open(image)\n",
    "        crs=ds_chunk.crs.to_string()\n",
    "        minx,miny,maxx,maxy=ds_chunk.bounds\n",
    "        chunk_geom=box(*ds_chunk.bounds)\n",
    "        ds_chunk.close()\n",
    "        chunk_id=os.path.basename(image)[:-4].split('_')[-2:]\n",
    "        if chunk_geom.intersects(validation_bbox):\n",
    "            # clip validation extent and bounday rasters to the extent of the identified chunk\n",
    "            # clip extent\n",
    "            out_exent=os.path.join(out_folder, prefix_extent+'_'.join(chunk_id)+'.tif')\n",
    "            gdal_cmd=[\"gdal_translate\", \"-of\", \"GTiff\",'-co','COMPRESS=DEFLATE',\n",
    "                      \"-projwin\",str(minx),str(maxy),str(maxx),str(miny),\n",
    "                      '-projwin_srs',crs,mosaic_extent,out_exent]\n",
    "            p1=subprocess.run(gdal_cmd,stdout=subprocess.DEVNULL)\n",
    "            # clip boundary\n",
    "            out_bound=os.path.join(out_folder, prefix_bound+'_'.join(chunk_id)+'.tif')\n",
    "            gdal_cmd=[\"gdal_translate\", \"-of\", \"GTiff\",'-co','COMPRESS=DEFLATE',\n",
    "                      \"-projwin\",str(minx),str(maxy),str(maxx),str(miny),\n",
    "                      '-projwin_srs',crs,crop_field_path,out_bound]\n",
    "            p2=subprocess.run(gdal_cmd,stdout=subprocess.DEVNULL)\n",
    "            if (p1.returncode==0)and(p2.returncode==0):\n",
    "                # remove empty chunks\n",
    "                ds_extent=rasterio.open(out_exent)\n",
    "                extent=ds_extent.read(1)\n",
    "                n_valid=np.nansum(extent)\n",
    "                ds_extent.close()\n",
    "                if not n_valid>0:\n",
    "                    os.remove(out_exent)\n",
    "                    os.remove(out_bound)"
   ]
  },
  {
   "cell_type": "code",
   "execution_count": 15,
   "metadata": {},
   "outputs": [
    {
     "name": "stdout",
     "output_type": "stream",
     "text": [
      "0...10...20...30...40...50...60...70...80...90...100 - done.\n",
      "0...10...20...30...40...50...60...70...80...90...100 - done.\n"
     ]
    }
   ],
   "source": [
    "# do mosaic to test if chunks correctly covered all fields\n",
    "! gdal_merge.py -o results/groundtruth/Rwanda_extent_mosaic.tif -co COMPRESS=Deflate results/groundtruth/Rwanda_groundtruth_crop_field_extent*.tif\n",
    "! gdal_merge.py -o results/groundtruth/Rwanda_bound_mosaic.tif -co COMPRESS=Deflate results/groundtruth/Rwanda_groundtruth_crop_field_bound*.tif"
   ]
  },
  {
   "cell_type": "code",
   "execution_count": null,
   "metadata": {},
   "outputs": [],
   "source": []
  }
 ],
 "metadata": {
  "kernelspec": {
   "display_name": "Python 3 (ipykernel)",
   "language": "python",
   "name": "python3"
  },
  "language_info": {
   "codemirror_mode": {
    "name": "ipython",
    "version": 3
   },
   "file_extension": ".py",
   "mimetype": "text/x-python",
   "name": "python",
   "nbconvert_exporter": "python",
   "pygments_lexer": "ipython3",
   "version": "3.10.6"
  },
  "vscode": {
   "interpreter": {
    "hash": "01a9736267bf300689e8e016092cd01f0c67384dd94651ae6e139a291bc8cc97"
   }
  }
 },
 "nbformat": 4,
 "nbformat_minor": 4
}
