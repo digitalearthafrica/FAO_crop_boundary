{
 "cells": [
  {
   "cell_type": "code",
   "execution_count": 1,
   "metadata": {},
   "outputs": [
    {
     "name": "stdout",
     "output_type": "stream",
     "text": [
      "Populating the interactive namespace from numpy and matplotlib\n"
     ]
    }
   ],
   "source": [
    "%pylab inline"
   ]
  },
  {
   "cell_type": "code",
   "execution_count": 2,
   "metadata": {},
   "outputs": [
    {
     "data": {
      "text/plain": [
       "'1.6.0'"
      ]
     },
     "execution_count": 2,
     "metadata": {},
     "output_type": "execute_result"
    }
   ],
   "source": [
    "import mxnet\n",
    "mxnet.__version__"
   ]
  },
  {
   "cell_type": "code",
   "execution_count": 3,
   "metadata": {},
   "outputs": [
    {
     "name": "stdout",
     "output_type": "stream",
     "text": [
      "['/home/jovyan/Crop_boundary_model/decode/examples', '/usr/lib/python38.zip', '/usr/lib/python3.8', '/usr/lib/python3.8/lib-dynload', '', '/home/jovyan/.local/lib/python3.8/site-packages', '/usr/local/lib/python3.8/dist-packages', '/usr/lib/python3/dist-packages', '/usr/local/lib/python3.8/dist-packages/IPython/extensions', '/home/jovyan/.ipython', '/home/jovyan/Crop_boundary_model/']\n"
     ]
    }
   ],
   "source": [
    "import sys\n",
    "module_path='/home/jovyan/Crop_boundary_model/'\n",
    "if module_path not in sys.path:\n",
    "    sys.path.append(module_path)\n",
    "print(sys.path)"
   ]
  },
  {
   "cell_type": "code",
   "execution_count": 4,
   "metadata": {},
   "outputs": [],
   "source": [
    "from mxnet import nd \n",
    "from decode.FracTAL_ResUNet.models.heads.head_cmtsk import *"
   ]
  },
  {
   "cell_type": "code",
   "execution_count": 5,
   "metadata": {},
   "outputs": [],
   "source": [
    "# D6nf32 example \n",
    "depth=6\n",
    "norm_type='GroupNorm'\n",
    "norm_groups=4\n",
    "ftdepth=5\n",
    "NClasses=2\n",
    "nfilters_init=32\n",
    "psp_depth=4\n",
    "nheads_start=4\n",
    "\n",
    "\n",
    "net = Head_CMTSK_BC(_nfilters_init=nfilters_init, _NClasses=NClasses,depth=depth, ftdepth=ftdepth, psp_depth=psp_depth,norm_type=norm_type,norm_groups=norm_groups,nheads_start=nheads_start)\n",
    "net.initialize()"
   ]
  },
  {
   "cell_type": "code",
   "execution_count": 6,
   "metadata": {},
   "outputs": [],
   "source": [
    "BatchSize = 4\n",
    "img_size=256\n",
    "NChannels = 3\n",
    "\n",
    "input_img_1 = nd.random.uniform(shape=[BatchSize, NChannels, img_size, img_size])\n",
    "input_img_2 = nd.random.uniform(shape=[BatchSize, NChannels, img_size, img_size])"
   ]
  },
  {
   "cell_type": "markdown",
   "metadata": {},
   "source": [
    "## Example of forward operation:\n"
   ]
  },
  {
   "cell_type": "code",
   "execution_count": 7,
   "metadata": {},
   "outputs": [],
   "source": [
    "outs = net(input_img_1, input_img_2)"
   ]
  },
  {
   "cell_type": "code",
   "execution_count": 8,
   "metadata": {},
   "outputs": [
    {
     "name": "stdout",
     "output_type": "stream",
     "text": [
      "(4, 2, 256, 256)\n",
      "(4, 2, 256, 256)\n",
      "(4, 2, 256, 256)\n"
     ]
    }
   ],
   "source": [
    "# outs is a list of outputs, segmentation, boundary, distance. \n",
    "# Each has shape BatchSize, NClasses, img_size, img_size\n",
    "for out in outs:\n",
    "    print (out.shape)"
   ]
  },
  {
   "cell_type": "markdown",
   "metadata": {},
   "source": [
    "### Example of performing backward with multitasking operation"
   ]
  },
  {
   "cell_type": "code",
   "execution_count": 10,
   "metadata": {},
   "outputs": [],
   "source": [
    "labels_segm = nd.random.uniform(shape=[BatchSize, NClasses, img_size, img_size])\n",
    "labels_segm = labels_segm > 0.5\n",
    "\n",
    "labels_bound = nd.random.uniform(shape=[BatchSize, NClasses, img_size, img_size])\n",
    "labels_bound = labels_bound > 0.5\n",
    "\n",
    "labels_dist = nd.random.uniform(shape=[BatchSize, NClasses, img_size, img_size])\n",
    "\n",
    "\n",
    "labels = [labels_segm,labels_bound,labels_dist]\n",
    "labels = nd.concat(*labels,dim=1)"
   ]
  },
  {
   "cell_type": "code",
   "execution_count": 12,
   "metadata": {},
   "outputs": [],
   "source": [
    "from mxnet import autograd\n",
    "from decode.FracTAL_ResUNet.nn.loss.mtsk_loss import *"
   ]
  },
  {
   "cell_type": "code",
   "execution_count": 13,
   "metadata": {},
   "outputs": [],
   "source": [
    "myMTSKL = mtsk_loss()"
   ]
  },
  {
   "cell_type": "code",
   "execution_count": 14,
   "metadata": {},
   "outputs": [],
   "source": [
    "with autograd.record():\n",
    "    listOfPreds = net(input_img_1, input_img_2)\n",
    "    loss = myMTSKL.loss(listOfPreds,labels)\n",
    "    loss.backward()"
   ]
  },
  {
   "cell_type": "code",
   "execution_count": 15,
   "metadata": {},
   "outputs": [
    {
     "data": {
      "text/plain": [
       "(4,)"
      ]
     },
     "execution_count": 15,
     "metadata": {},
     "output_type": "execute_result"
    }
   ],
   "source": [
    "loss.shape"
   ]
  },
  {
   "cell_type": "code",
   "execution_count": 16,
   "metadata": {},
   "outputs": [
    {
     "data": {
      "text/plain": [
       "\n",
       "[0.42095947 0.4213251  0.4212415  0.42106745]\n",
       "<NDArray 4 @cpu(0)>"
      ]
     },
     "execution_count": 16,
     "metadata": {},
     "output_type": "execute_result"
    }
   ],
   "source": [
    "loss"
   ]
  },
  {
   "cell_type": "code",
   "execution_count": null,
   "metadata": {},
   "outputs": [],
   "source": []
  }
 ],
 "metadata": {
  "kernelspec": {
   "display_name": "Python 3 (ipykernel)",
   "language": "python",
   "name": "python3"
  },
  "language_info": {
   "codemirror_mode": {
    "name": "ipython",
    "version": 3
   },
   "file_extension": ".py",
   "mimetype": "text/x-python",
   "name": "python",
   "nbconvert_exporter": "python",
   "pygments_lexer": "ipython3",
   "version": "3.8.10"
  },
  "vscode": {
   "interpreter": {
    "hash": "bdad6a8514687c7618208454c138a3d298cddf1b56349021c3cb0abaea8f35fb"
   }
  }
 },
 "nbformat": 4,
 "nbformat_minor": 4
}
