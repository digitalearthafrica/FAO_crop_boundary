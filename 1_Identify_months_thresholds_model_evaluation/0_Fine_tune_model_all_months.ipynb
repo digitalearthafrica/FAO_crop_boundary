{
 "cells": [
  {
   "cell_type": "markdown",
   "metadata": {},
   "source": [
    "This notebook implements fine-tuning of pre-trained [FracTAL ResUNet model](https://www.mdpi.com/2072-4292/13/11/2197) using monthly Planet RGB chunks and validation data. It also exports evaluation metrics and export fine-tuned model parameters."
   ]
  },
  {
   "cell_type": "markdown",
   "metadata": {},
   "source": [
    "## Load packages and modules"
   ]
  },
  {
   "cell_type": "code",
   "execution_count": 1,
   "metadata": {},
   "outputs": [],
   "source": [
    "# !pip -q install mxnet"
   ]
  },
  {
   "cell_type": "code",
   "execution_count": 3,
   "metadata": {},
   "outputs": [],
   "source": [
    "import numpy as np\n",
    "import pandas as pd\n",
    "import os\n",
    "from tqdm import tqdm\n",
    "import matplotlib.pyplot as plt\n",
    "import mxnet as mx\n",
    "from mxnet import gluon\n",
    "from mxnet import image\n",
    "from glob import glob\n",
    "# import imageio.v2 as imageio\n",
    "from osgeo import gdal, osr\n",
    "import sys\n",
    "from multiprocessing import cpu_count\n",
    "\n",
    "# add existing and decode modules to system path\n",
    "module_paths=['decode/FracTAL_ResUNet/models/semanticsegmentation',\n",
    "             'decode/FracTAL_ResUNet/nn/loss']\n",
    "for module_path in module_paths:\n",
    "    if module_path not in sys.path:\n",
    "        sys.path.append(module_path)\n",
    "# print(sys.path)"
   ]
  },
  {
   "cell_type": "code",
   "execution_count": 4,
   "metadata": {},
   "outputs": [],
   "source": [
    "# import functions from modules\n",
    "from FracTAL_ResUNet import FracTAL_ResUNet_cmtsk\n",
    "from datasets import *\n",
    "from ftnmt_loss import ftnmt_loss\n",
    "from evaluation import dice_coef,train_model_per_epoch,evaluate_model_per_epoch"
   ]
  },
  {
   "cell_type": "markdown",
   "metadata": {},
   "source": [
    "## Define parameters"
   ]
  },
  {
   "cell_type": "code",
   "execution_count": 5,
   "metadata": {},
   "outputs": [],
   "source": [
    "# hyperparameters for model architecture or training\n",
    "n_filters = 32\n",
    "depth = 6\n",
    "n_classes = 1\n",
    "batch_size = 4\n",
    "ctx_name = 'cpu'\n",
    "gpu_id = 0\n",
    "epochs = 20\n",
    "lr = 0.0001\n",
    "lr_decay = None\n",
    "\n",
    "# other parameters\n",
    "country = 'Rwanda'\n",
    "str_month='03' # selected month in string format\n",
    "CPU_COUNT = cpu_count()\n",
    "srs = osr.SpatialReference()\n",
    "srs.ImportFromEPSG(3857)\n",
    "\n",
    "# input folder of input RGB chunk geotiffs\n",
    "input_folder='../0_Data_preparation/results/RGB_chunks'\n",
    "# input folder of groundtruth geotiffs\n",
    "groundtruth_folder='../0_Data_preparation/results/groundtruth'\n",
    "# output folder to store evaluation metrics\n",
    "out_folder='metrics'\n",
    "\n",
    "# input pre-trained model weights\n",
    "# trained_model='model_weights/Planet_france.params' # trained and fine-tuned on planet data of France\n",
    "trained_model='model_weights/Planet_pretrained-france_finetuned-india.params' # trained on planet data of France and fine-tuned on India\n",
    "# trained_model = 'model_weights/Airbus_pretrained-france_finetuned-india.params' # trained and fine-tuned on SPOT data of France\n",
    "\n",
    "# output fine-tuned model weights\n",
    "finetuned_model=trained_model.replace('.params','_'+'month_'+str_month+'_finetuned.params')"
   ]
  },
  {
   "cell_type": "code",
   "execution_count": 6,
   "metadata": {},
   "outputs": [],
   "source": [
    "if not os.path.isdir(out_folder):\n",
    "    os.makedirs(out_folder)"
   ]
  },
  {
   "cell_type": "markdown",
   "metadata": {},
   "source": [
    "## Identify RGB chunks with validation data available"
   ]
  },
  {
   "cell_type": "code",
   "execution_count": 7,
   "metadata": {},
   "outputs": [
    {
     "name": "stdout",
     "output_type": "stream",
     "text": [
      "Found 123 groundtruth extent chunks\n",
      "Found 123 groundtruth boundary chunks\n"
     ]
    }
   ],
   "source": [
    "# extract chunk ids of validation data\n",
    "gt_extent_names=glob(groundtruth_folder+'/'+country+'*crop_field_extent*.tif')\n",
    "gt_bound_names=[extent_name.replace('extent','bound') for extent_name in gt_extent_names]\n",
    "print('Found {} groundtruth extent chunks'.format(len(gt_extent_names)))\n",
    "print('Found {} groundtruth boundary chunks'.format(len(gt_bound_names)))"
   ]
  },
  {
   "cell_type": "code",
   "execution_count": 8,
   "metadata": {},
   "outputs": [
    {
     "name": "stdout",
     "output_type": "stream",
     "text": [
      "Found 123 RGB images\n"
     ]
    }
   ],
   "source": [
    "# find Planet RGB chunks corresponding to validation chunks\n",
    "image_names=[]\n",
    "for extent_name in gt_extent_names:\n",
    "    # extract id of validation chunk\n",
    "    chunk_id=os.path.basename(extent_name)[:-4].split('_')[-2:]\n",
    "    image_list=glob(os.path.join(input_folder,country+'*'+str_month+'_'+'_'.join(chunk_id)+'.tif'))\n",
    "    if len(image_list)<1:\n",
    "        print('no RGB found for chunk')\n",
    "    else:\n",
    "        for img in image_list:\n",
    "            image_names.append(img)\n",
    "print('Found {} RGB images'.format(len(image_names)))"
   ]
  },
  {
   "cell_type": "markdown",
   "metadata": {},
   "source": [
    "## Create training dataset and dataloader"
   ]
  },
  {
   "cell_type": "code",
   "execution_count": 9,
   "metadata": {},
   "outputs": [],
   "source": [
    "# Define dataset\n",
    "train_dataset = Planet_Dataset_Masked(fold='train',image_names=image_names,extent_names=gt_extent_names,\n",
    "                                     bound_names=gt_bound_names, random_crop=True)\n",
    "\n",
    "# Loads data from a dataset and create mini batches\n",
    "train_dataloader = gluon.data.DataLoader(train_dataset, batch_size=batch_size,num_workers=CPU_COUNT) # might encounter 'connection refused' issue\n",
    "# train_dataloader = gluon.data.DataLoader(train_dataset, batch_size=batch_size,num_workers=1)"
   ]
  },
  {
   "cell_type": "markdown",
   "metadata": {},
   "source": [
    "## Load pre-trained model"
   ]
  },
  {
   "cell_type": "code",
   "execution_count": 10,
   "metadata": {},
   "outputs": [
    {
     "name": "stdout",
     "output_type": "stream",
     "text": [
      "depth:= 0, nfilters: 32, nheads::8, widths::1\n",
      "depth:= 1, nfilters: 64, nheads::16, widths::1\n",
      "depth:= 2, nfilters: 128, nheads::32, widths::1\n",
      "depth:= 3, nfilters: 256, nheads::64, widths::1\n",
      "depth:= 4, nfilters: 512, nheads::128, widths::1\n",
      "depth:= 5, nfilters: 1024, nheads::256, widths::1\n",
      "depth:= 6, nfilters: 512, nheads::256, widths::1\n",
      "depth:= 7, nfilters: 256, nheads::128, widths::1\n",
      "depth:= 8, nfilters: 128, nheads::64, widths::1\n",
      "depth:= 9, nfilters: 64, nheads::32, widths::1\n",
      "depth:= 10, nfilters: 32, nheads::16, widths::1\n"
     ]
    }
   ],
   "source": [
    "# Set MXNet ctx\n",
    "if ctx_name == 'cpu':\n",
    "    ctx = mx.cpu()\n",
    "elif ctx_name == 'gpu':\n",
    "    ctx = mx.gpu(gpu_id)\n",
    "\n",
    "# initialise model\n",
    "model = FracTAL_ResUNet_cmtsk(nfilters_init=n_filters, depth=depth, NClasses=n_classes)\n",
    "\n",
    "# load pre-trained model parameters\n",
    "model.load_parameters(trained_model, ctx=ctx)"
   ]
  },
  {
   "cell_type": "markdown",
   "metadata": {},
   "source": [
    "## Define loss function, set optimisation method and initialise assessment metrics"
   ]
  },
  {
   "cell_type": "code",
   "execution_count": 11,
   "metadata": {},
   "outputs": [],
   "source": [
    "args = {}\n",
    "args['batch_size'] = batch_size\n",
    "args['ctx_name'] = ctx_name\n",
    "\n",
    "# define optimisation method\n",
    "if lr_decay:\n",
    "    schedule = mx.lr_scheduler.FactorScheduler(step=1, factor=lr_decay)\n",
    "    adam_optimizer = mx.optimizer.Adam(learning_rate=lr, lr_scheduler=schedule)\n",
    "else:\n",
    "    adam_optimizer = mx.optimizer.Adam(learning_rate=lr)\n",
    "\n",
    "# define loss function\n",
    "loss_function = ftnmt_loss(depth=5)\n",
    "\n",
    "# apply parameters optimisation on model parameters\n",
    "trainer = gluon.Trainer(model.collect_params(), optimizer=adam_optimizer)\n",
    "\n",
    "# containers for metrics to log\n",
    "train_metrics = {'train_loss': [], 'train_acc': [], 'train_f1': [], \n",
    "                 'train_mcc': [], 'train_dice': []}\n",
    "val_metrics = {'val_loss': [], 'val_acc': [], 'val_f1': [], \n",
    "               'val_mcc': [], 'val_dice': []}\n",
    "best_mcc = 0.0"
   ]
  },
  {
   "cell_type": "code",
   "execution_count": 12,
   "metadata": {},
   "outputs": [],
   "source": [
    "# initialize metrics\n",
    "cumulative_loss = 0\n",
    "accuracy = mx.metric.Accuracy()\n",
    "f1 = mx.metric.F1()\n",
    "mcc = mx.metric.MCC()\n",
    "dice = mx.metric.CustomMetric(feval=dice_coef, name=\"Dice\")\n",
    "if args['ctx_name'] == 'cpu':\n",
    "    ctx = mx.cpu()\n",
    "else:\n",
    "    ctx = mx.gpu(args['gpu'])\n",
    "\n",
    "epoch=0"
   ]
  },
  {
   "cell_type": "markdown",
   "metadata": {},
   "source": [
    "## Fine-tune model parameters and export evaluation metrics"
   ]
  },
  {
   "cell_type": "code",
   "execution_count": 13,
   "metadata": {},
   "outputs": [
    {
     "name": "stderr",
     "output_type": "stream",
     "text": [
      "Training epoch 0: 100%|██████████| 31/31 [12:02<00:00, 23.29s/it]\n",
      "Validation epoch 0: 100%|██████████| 31/31 [04:35<00:00,  8.90s/it]\n"
     ]
    },
    {
     "name": "stdout",
     "output_type": "stream",
     "text": [
      "Epoch 0:\n",
      "    Train loss 0.429, accuracy 0.702, F1-score 0.800, MCC: 0.212, Dice: 0.800\n",
      "    Val loss 0.411, accuracy 0.766, F1-score 0.852, MCC: 0.247, Dice: 0.852\n"
     ]
    },
    {
     "name": "stderr",
     "output_type": "stream",
     "text": [
      "Training epoch 1: 100%|██████████| 31/31 [11:20<00:00, 21.94s/it]\n",
      "Validation epoch 1: 100%|██████████| 31/31 [04:34<00:00,  8.85s/it]\n"
     ]
    },
    {
     "name": "stdout",
     "output_type": "stream",
     "text": [
      "Epoch 1:\n",
      "    Train loss 0.414, accuracy 0.755, F1-score 0.843, MCC: 0.237, Dice: 0.843\n",
      "    Val loss 0.403, accuracy 0.788, F1-score 0.868, MCC: 0.259, Dice: 0.868\n"
     ]
    },
    {
     "name": "stderr",
     "output_type": "stream",
     "text": [
      "Training epoch 2: 100%|██████████| 31/31 [11:23<00:00, 22.05s/it]\n",
      "Validation epoch 2: 100%|██████████| 31/31 [04:35<00:00,  8.87s/it]\n"
     ]
    },
    {
     "name": "stdout",
     "output_type": "stream",
     "text": [
      "Epoch 2:\n",
      "    Train loss 0.401, accuracy 0.789, F1-score 0.872, MCC: 0.258, Dice: 0.872\n",
      "    Val loss 0.388, accuracy 0.818, F1-score 0.891, MCC: 0.269, Dice: 0.891\n"
     ]
    },
    {
     "name": "stderr",
     "output_type": "stream",
     "text": [
      "Training epoch 3: 100%|██████████| 31/31 [11:25<00:00, 22.10s/it]\n",
      "Validation epoch 3: 100%|██████████| 31/31 [04:35<00:00,  8.89s/it]\n"
     ]
    },
    {
     "name": "stdout",
     "output_type": "stream",
     "text": [
      "Epoch 3:\n",
      "    Train loss 0.393, accuracy 0.805, F1-score 0.884, MCC: 0.262, Dice: 0.884\n",
      "    Val loss 0.382, accuracy 0.831, F1-score 0.900, MCC: 0.268, Dice: 0.900\n"
     ]
    },
    {
     "name": "stderr",
     "output_type": "stream",
     "text": [
      "Training epoch 4: 100%|██████████| 31/31 [11:22<00:00, 22.00s/it]\n",
      "Validation epoch 4: 100%|██████████| 31/31 [04:34<00:00,  8.86s/it]\n"
     ]
    },
    {
     "name": "stdout",
     "output_type": "stream",
     "text": [
      "Epoch 4:\n",
      "    Train loss 0.386, accuracy 0.821, F1-score 0.895, MCC: 0.266, Dice: 0.895\n",
      "    Val loss 0.378, accuracy 0.839, F1-score 0.907, MCC: 0.265, Dice: 0.907\n"
     ]
    },
    {
     "name": "stderr",
     "output_type": "stream",
     "text": [
      "Training epoch 5:  13%|█▎        | 4/31 [01:51<12:32, 27.85s/it]\n"
     ]
    },
    {
     "ename": "KeyboardInterrupt",
     "evalue": "",
     "output_type": "error",
     "traceback": [
      "\u001b[0;31m---------------------------------------------------------------------------\u001b[0m",
      "\u001b[0;31mKeyboardInterrupt\u001b[0m                         Traceback (most recent call last)",
      "File \u001b[0;32m<timed exec>:5\u001b[0m\n",
      "File \u001b[0;32m~/Crop_boundary_FAO/1_Identify_months_thresholds_model_evaluation/evaluation.py:176\u001b[0m, in \u001b[0;36mtrain_model_per_epoch\u001b[0;34m(train_dataloader, model, ftnmt_loss, trainer, epoch, args)\u001b[0m\n\u001b[1;32m    173\u001b[0m trainer\u001b[38;5;241m.\u001b[39mstep(args[\u001b[38;5;124m'\u001b[39m\u001b[38;5;124mbatch_size\u001b[39m\u001b[38;5;124m'\u001b[39m])\n\u001b[1;32m    175\u001b[0m \u001b[38;5;66;03m# update cummulative loss \u001b[39;00m\n\u001b[0;32m--> 176\u001b[0m cumulative_loss \u001b[38;5;241m+\u001b[39m\u001b[38;5;241m=\u001b[39m \u001b[43mmx\u001b[49m\u001b[38;5;241;43m.\u001b[39;49m\u001b[43mnd\u001b[49m\u001b[38;5;241;43m.\u001b[39;49m\u001b[43msum\u001b[49m\u001b[43m(\u001b[49m\u001b[43mloss\u001b[49m\u001b[43m)\u001b[49m\u001b[38;5;241;43m.\u001b[39;49m\u001b[43masscalar\u001b[49m\u001b[43m(\u001b[49m\u001b[43m)\u001b[49m\n\u001b[1;32m    178\u001b[0m \u001b[38;5;66;03m# mask out unlabeled pixels\u001b[39;00m\n\u001b[1;32m    179\u001b[0m logits_reshaped \u001b[38;5;241m=\u001b[39m logits\u001b[38;5;241m.\u001b[39mreshape((logits\u001b[38;5;241m.\u001b[39mshape[\u001b[38;5;241m0\u001b[39m], \u001b[38;5;241m-\u001b[39m\u001b[38;5;241m1\u001b[39m))\n",
      "File \u001b[0;32m~/.local/lib/python3.10/site-packages/mxnet/ndarray/ndarray.py:2590\u001b[0m, in \u001b[0;36mNDArray.asscalar\u001b[0;34m(self)\u001b[0m\n\u001b[1;32m   2588\u001b[0m     \u001b[38;5;28;01mraise\u001b[39;00m \u001b[38;5;167;01mValueError\u001b[39;00m(\u001b[38;5;124m\"\u001b[39m\u001b[38;5;124mThe current array is not a scalar\u001b[39m\u001b[38;5;124m\"\u001b[39m)\n\u001b[1;32m   2589\u001b[0m \u001b[38;5;28;01mif\u001b[39;00m \u001b[38;5;28mself\u001b[39m\u001b[38;5;241m.\u001b[39mndim \u001b[38;5;241m==\u001b[39m \u001b[38;5;241m1\u001b[39m:\n\u001b[0;32m-> 2590\u001b[0m     \u001b[38;5;28;01mreturn\u001b[39;00m \u001b[38;5;28;43mself\u001b[39;49m\u001b[38;5;241;43m.\u001b[39;49m\u001b[43masnumpy\u001b[49m\u001b[43m(\u001b[49m\u001b[43m)\u001b[49m[\u001b[38;5;241m0\u001b[39m]\n\u001b[1;32m   2591\u001b[0m \u001b[38;5;28;01melse\u001b[39;00m:\n\u001b[1;32m   2592\u001b[0m     \u001b[38;5;28;01mreturn\u001b[39;00m \u001b[38;5;28mself\u001b[39m\u001b[38;5;241m.\u001b[39masnumpy()[()]\n",
      "File \u001b[0;32m~/.local/lib/python3.10/site-packages/mxnet/ndarray/ndarray.py:2568\u001b[0m, in \u001b[0;36mNDArray.asnumpy\u001b[0;34m(self)\u001b[0m\n\u001b[1;32m   2551\u001b[0m \u001b[38;5;250m\u001b[39m\u001b[38;5;124;03m\"\"\"Returns a ``numpy.ndarray`` object with value copied from this array.\u001b[39;00m\n\u001b[1;32m   2552\u001b[0m \n\u001b[1;32m   2553\u001b[0m \u001b[38;5;124;03mExamples\u001b[39;00m\n\u001b[0;32m   (...)\u001b[0m\n\u001b[1;32m   2565\u001b[0m \u001b[38;5;124;03m       [1, 1, 1]], dtype=int32)\u001b[39;00m\n\u001b[1;32m   2566\u001b[0m \u001b[38;5;124;03m\"\"\"\u001b[39;00m\n\u001b[1;32m   2567\u001b[0m data \u001b[38;5;241m=\u001b[39m np\u001b[38;5;241m.\u001b[39mempty(\u001b[38;5;28mself\u001b[39m\u001b[38;5;241m.\u001b[39mshape, dtype\u001b[38;5;241m=\u001b[39m\u001b[38;5;28mself\u001b[39m\u001b[38;5;241m.\u001b[39mdtype)\n\u001b[0;32m-> 2568\u001b[0m check_call(\u001b[43m_LIB\u001b[49m\u001b[38;5;241;43m.\u001b[39;49m\u001b[43mMXNDArraySyncCopyToCPU\u001b[49m\u001b[43m(\u001b[49m\n\u001b[1;32m   2569\u001b[0m \u001b[43m    \u001b[49m\u001b[38;5;28;43mself\u001b[39;49m\u001b[38;5;241;43m.\u001b[39;49m\u001b[43mhandle\u001b[49m\u001b[43m,\u001b[49m\n\u001b[1;32m   2570\u001b[0m \u001b[43m    \u001b[49m\u001b[43mdata\u001b[49m\u001b[38;5;241;43m.\u001b[39;49m\u001b[43mctypes\u001b[49m\u001b[38;5;241;43m.\u001b[39;49m\u001b[43mdata_as\u001b[49m\u001b[43m(\u001b[49m\u001b[43mctypes\u001b[49m\u001b[38;5;241;43m.\u001b[39;49m\u001b[43mc_void_p\u001b[49m\u001b[43m)\u001b[49m\u001b[43m,\u001b[49m\n\u001b[1;32m   2571\u001b[0m \u001b[43m    \u001b[49m\u001b[43mctypes\u001b[49m\u001b[38;5;241;43m.\u001b[39;49m\u001b[43mc_size_t\u001b[49m\u001b[43m(\u001b[49m\u001b[43mdata\u001b[49m\u001b[38;5;241;43m.\u001b[39;49m\u001b[43msize\u001b[49m\u001b[43m)\u001b[49m\u001b[43m)\u001b[49m)\n\u001b[1;32m   2572\u001b[0m \u001b[38;5;28;01mreturn\u001b[39;00m data\n",
      "\u001b[0;31mKeyboardInterrupt\u001b[0m: "
     ]
    }
   ],
   "source": [
    "%%time\n",
    "# initialise best mcc \n",
    "best_mcc=0.0\n",
    "# training loop\n",
    "for epoch in range(epochs):\n",
    "    train_loss, train_accuracy, train_f1, train_mcc, train_dice = train_model_per_epoch(\n",
    "    train_dataloader, model, loss_function, trainer, epoch, args)\n",
    "    \n",
    "    # training set metrics\n",
    "    train_loss_avg = train_loss / len(train_dataset) # average loss\n",
    "    train_metrics['train_loss'].append(train_loss_avg)\n",
    "    train_metrics['train_acc'].append(train_accuracy.get()[1]) # get accuracy value\n",
    "    train_metrics['train_f1'].append(train_f1.get()[1])\n",
    "    train_metrics['train_mcc'].append(train_mcc.get()[1])\n",
    "    train_metrics['train_dice'].append(train_dice.get()[1])\n",
    "    \n",
    "    # validation set: use same dataset for now\n",
    "    val_loss, val_accuracy, val_f1, val_mcc, val_dice = evaluate_model_per_epoch(\n",
    "        train_dataloader, model, loss_function, epoch, args)\n",
    "\n",
    "    # validation set metrics\n",
    "    val_dataset=train_dataset # set validation dataset the same as training dataset for now\n",
    "    val_loss_avg = val_loss / len(val_dataset)\n",
    "    val_metrics['val_loss'].append(val_loss_avg)\n",
    "    val_metrics['val_acc'].append(val_accuracy.get()[1])\n",
    "    val_metrics['val_f1'].append(val_f1.get()[1])\n",
    "    val_metrics['val_mcc'].append(val_mcc.get()[1])\n",
    "    val_metrics['val_dice'].append(val_dice.get()[1])\n",
    "\n",
    "    # print out evaluation scores for current epoch\n",
    "    print(\"Epoch {}:\".format(epoch))\n",
    "    print(\"    Train loss {:0.3f}, accuracy {:0.3f}, F1-score {:0.3f}, MCC: {:0.3f}, Dice: {:0.3f}\".format(\n",
    "        train_loss_avg, train_accuracy.get()[1], train_f1.get()[1], train_mcc.get()[1], train_dice.get()[1]))\n",
    "    print(\"    Val loss {:0.3f}, accuracy {:0.3f}, F1-score {:0.3f}, MCC: {:0.3f}, Dice: {:0.3f}\".format(\n",
    "        val_loss_avg, val_accuracy.get()[1], val_f1.get()[1], val_mcc.get()[1], val_dice.get()[1]))\n",
    "    \n",
    "    # save model parameters based on best validation MCC metric: note this doesn't save model struture\n",
    "    if val_mcc.get()[1] > best_mcc:\n",
    "        model.save_parameters(finetuned_model)\n",
    "        best_mcc = val_mcc.get()[1]\n",
    "\n",
    "    # save metrics\n",
    "    metrics = pd.concat([pd.DataFrame(train_metrics), pd.DataFrame(val_metrics)], axis=1)\n",
    "    out_metrics=os.path.join(out_folder,'_'.join(['metrics','month',str_month])+'.csv')\n",
    "    metrics.to_csv(out_metrics, index=False)"
   ]
  },
  {
   "cell_type": "markdown",
   "metadata": {},
   "source": [
    "## Plot training curve"
   ]
  },
  {
   "cell_type": "code",
   "execution_count": 14,
   "metadata": {},
   "outputs": [
    {
     "ename": "ValueError",
     "evalue": "x and y must have same first dimension, but have shapes (6,) and (5,)",
     "output_type": "error",
     "traceback": [
      "\u001b[0;31m---------------------------------------------------------------------------\u001b[0m",
      "\u001b[0;31mValueError\u001b[0m                                Traceback (most recent call last)",
      "Cell \u001b[0;32mIn[14], line 4\u001b[0m\n\u001b[1;32m      2\u001b[0m fig, ax \u001b[38;5;241m=\u001b[39m plt\u001b[38;5;241m.\u001b[39msubplots()\n\u001b[1;32m      3\u001b[0m \u001b[38;5;66;03m# use pyplot to visualise training curves\u001b[39;00m\n\u001b[0;32m----> 4\u001b[0m \u001b[43max\u001b[49m\u001b[38;5;241;43m.\u001b[39;49m\u001b[43mplot\u001b[49m\u001b[43m(\u001b[49m\u001b[43mnp\u001b[49m\u001b[38;5;241;43m.\u001b[39;49m\u001b[43marange\u001b[49m\u001b[43m(\u001b[49m\u001b[38;5;241;43m1\u001b[39;49m\u001b[43m,\u001b[49m\u001b[43m \u001b[49m\u001b[43mepoch\u001b[49m\u001b[38;5;241;43m+\u001b[39;49m\u001b[38;5;241;43m2\u001b[39;49m\u001b[43m)\u001b[49m\u001b[43m,\u001b[49m\u001b[43mtrain_metrics\u001b[49m\u001b[43m[\u001b[49m\u001b[38;5;124;43m'\u001b[39;49m\u001b[38;5;124;43mtrain_loss\u001b[39;49m\u001b[38;5;124;43m'\u001b[39;49m\u001b[43m]\u001b[49m\u001b[43m,\u001b[49m\u001b[38;5;124;43m'\u001b[39;49m\u001b[38;5;124;43mg--\u001b[39;49m\u001b[38;5;124;43m'\u001b[39;49m\u001b[43m,\u001b[49m\u001b[43mlabel\u001b[49m\u001b[38;5;241;43m=\u001b[39;49m\u001b[38;5;124;43m'\u001b[39;49m\u001b[38;5;124;43mtraining_loss\u001b[39;49m\u001b[38;5;124;43m'\u001b[39;49m\u001b[43m)\u001b[49m\n\u001b[1;32m      5\u001b[0m ax\u001b[38;5;241m.\u001b[39mplot(np\u001b[38;5;241m.\u001b[39marange(\u001b[38;5;241m1\u001b[39m, epoch\u001b[38;5;241m+\u001b[39m\u001b[38;5;241m2\u001b[39m),val_metrics[\u001b[38;5;124m'\u001b[39m\u001b[38;5;124mval_loss\u001b[39m\u001b[38;5;124m'\u001b[39m],\u001b[38;5;124m'\u001b[39m\u001b[38;5;124mr--\u001b[39m\u001b[38;5;124m'\u001b[39m,label\u001b[38;5;241m=\u001b[39m\u001b[38;5;124m'\u001b[39m\u001b[38;5;124mvalidation_loss\u001b[39m\u001b[38;5;124m'\u001b[39m)\n\u001b[1;32m      6\u001b[0m ax\u001b[38;5;241m.\u001b[39mplot(np\u001b[38;5;241m.\u001b[39marange(\u001b[38;5;241m1\u001b[39m, epoch\u001b[38;5;241m+\u001b[39m\u001b[38;5;241m2\u001b[39m),train_metrics[\u001b[38;5;124m'\u001b[39m\u001b[38;5;124mtrain_acc\u001b[39m\u001b[38;5;124m'\u001b[39m],\u001b[38;5;124m'\u001b[39m\u001b[38;5;124mg\u001b[39m\u001b[38;5;124m'\u001b[39m,label\u001b[38;5;241m=\u001b[39m\u001b[38;5;124m'\u001b[39m\u001b[38;5;124mtraining_accuracy\u001b[39m\u001b[38;5;124m'\u001b[39m)\n",
      "File \u001b[0;32m/usr/local/lib/python3.10/dist-packages/matplotlib/axes/_axes.py:1688\u001b[0m, in \u001b[0;36mAxes.plot\u001b[0;34m(self, scalex, scaley, data, *args, **kwargs)\u001b[0m\n\u001b[1;32m   1445\u001b[0m \u001b[38;5;250m\u001b[39m\u001b[38;5;124;03m\"\"\"\u001b[39;00m\n\u001b[1;32m   1446\u001b[0m \u001b[38;5;124;03mPlot y versus x as lines and/or markers.\u001b[39;00m\n\u001b[1;32m   1447\u001b[0m \n\u001b[0;32m   (...)\u001b[0m\n\u001b[1;32m   1685\u001b[0m \u001b[38;5;124;03m(``'green'``) or hex strings (``'#008000'``).\u001b[39;00m\n\u001b[1;32m   1686\u001b[0m \u001b[38;5;124;03m\"\"\"\u001b[39;00m\n\u001b[1;32m   1687\u001b[0m kwargs \u001b[38;5;241m=\u001b[39m cbook\u001b[38;5;241m.\u001b[39mnormalize_kwargs(kwargs, mlines\u001b[38;5;241m.\u001b[39mLine2D)\n\u001b[0;32m-> 1688\u001b[0m lines \u001b[38;5;241m=\u001b[39m [\u001b[38;5;241m*\u001b[39m\u001b[38;5;28mself\u001b[39m\u001b[38;5;241m.\u001b[39m_get_lines(\u001b[38;5;241m*\u001b[39margs, data\u001b[38;5;241m=\u001b[39mdata, \u001b[38;5;241m*\u001b[39m\u001b[38;5;241m*\u001b[39mkwargs)]\n\u001b[1;32m   1689\u001b[0m \u001b[38;5;28;01mfor\u001b[39;00m line \u001b[38;5;129;01min\u001b[39;00m lines:\n\u001b[1;32m   1690\u001b[0m     \u001b[38;5;28mself\u001b[39m\u001b[38;5;241m.\u001b[39madd_line(line)\n",
      "File \u001b[0;32m/usr/local/lib/python3.10/dist-packages/matplotlib/axes/_base.py:311\u001b[0m, in \u001b[0;36m_process_plot_var_args.__call__\u001b[0;34m(self, data, *args, **kwargs)\u001b[0m\n\u001b[1;32m    309\u001b[0m     this \u001b[38;5;241m+\u001b[39m\u001b[38;5;241m=\u001b[39m args[\u001b[38;5;241m0\u001b[39m],\n\u001b[1;32m    310\u001b[0m     args \u001b[38;5;241m=\u001b[39m args[\u001b[38;5;241m1\u001b[39m:]\n\u001b[0;32m--> 311\u001b[0m \u001b[38;5;28;01myield from\u001b[39;00m \u001b[38;5;28;43mself\u001b[39;49m\u001b[38;5;241;43m.\u001b[39;49m\u001b[43m_plot_args\u001b[49m\u001b[43m(\u001b[49m\n\u001b[1;32m    312\u001b[0m \u001b[43m    \u001b[49m\u001b[43mthis\u001b[49m\u001b[43m,\u001b[49m\u001b[43m \u001b[49m\u001b[43mkwargs\u001b[49m\u001b[43m,\u001b[49m\u001b[43m \u001b[49m\u001b[43mambiguous_fmt_datakey\u001b[49m\u001b[38;5;241;43m=\u001b[39;49m\u001b[43mambiguous_fmt_datakey\u001b[49m\u001b[43m)\u001b[49m\n",
      "File \u001b[0;32m/usr/local/lib/python3.10/dist-packages/matplotlib/axes/_base.py:504\u001b[0m, in \u001b[0;36m_process_plot_var_args._plot_args\u001b[0;34m(self, tup, kwargs, return_kwargs, ambiguous_fmt_datakey)\u001b[0m\n\u001b[1;32m    501\u001b[0m     \u001b[38;5;28mself\u001b[39m\u001b[38;5;241m.\u001b[39maxes\u001b[38;5;241m.\u001b[39myaxis\u001b[38;5;241m.\u001b[39mupdate_units(y)\n\u001b[1;32m    503\u001b[0m \u001b[38;5;28;01mif\u001b[39;00m x\u001b[38;5;241m.\u001b[39mshape[\u001b[38;5;241m0\u001b[39m] \u001b[38;5;241m!=\u001b[39m y\u001b[38;5;241m.\u001b[39mshape[\u001b[38;5;241m0\u001b[39m]:\n\u001b[0;32m--> 504\u001b[0m     \u001b[38;5;28;01mraise\u001b[39;00m \u001b[38;5;167;01mValueError\u001b[39;00m(\u001b[38;5;124mf\u001b[39m\u001b[38;5;124m\"\u001b[39m\u001b[38;5;124mx and y must have same first dimension, but \u001b[39m\u001b[38;5;124m\"\u001b[39m\n\u001b[1;32m    505\u001b[0m                      \u001b[38;5;124mf\u001b[39m\u001b[38;5;124m\"\u001b[39m\u001b[38;5;124mhave shapes \u001b[39m\u001b[38;5;132;01m{\u001b[39;00mx\u001b[38;5;241m.\u001b[39mshape\u001b[38;5;132;01m}\u001b[39;00m\u001b[38;5;124m and \u001b[39m\u001b[38;5;132;01m{\u001b[39;00my\u001b[38;5;241m.\u001b[39mshape\u001b[38;5;132;01m}\u001b[39;00m\u001b[38;5;124m\"\u001b[39m)\n\u001b[1;32m    506\u001b[0m \u001b[38;5;28;01mif\u001b[39;00m x\u001b[38;5;241m.\u001b[39mndim \u001b[38;5;241m>\u001b[39m \u001b[38;5;241m2\u001b[39m \u001b[38;5;129;01mor\u001b[39;00m y\u001b[38;5;241m.\u001b[39mndim \u001b[38;5;241m>\u001b[39m \u001b[38;5;241m2\u001b[39m:\n\u001b[1;32m    507\u001b[0m     \u001b[38;5;28;01mraise\u001b[39;00m \u001b[38;5;167;01mValueError\u001b[39;00m(\u001b[38;5;124mf\u001b[39m\u001b[38;5;124m\"\u001b[39m\u001b[38;5;124mx and y can be no greater than 2D, but have \u001b[39m\u001b[38;5;124m\"\u001b[39m\n\u001b[1;32m    508\u001b[0m                      \u001b[38;5;124mf\u001b[39m\u001b[38;5;124m\"\u001b[39m\u001b[38;5;124mshapes \u001b[39m\u001b[38;5;132;01m{\u001b[39;00mx\u001b[38;5;241m.\u001b[39mshape\u001b[38;5;132;01m}\u001b[39;00m\u001b[38;5;124m and \u001b[39m\u001b[38;5;132;01m{\u001b[39;00my\u001b[38;5;241m.\u001b[39mshape\u001b[38;5;132;01m}\u001b[39;00m\u001b[38;5;124m\"\u001b[39m)\n",
      "\u001b[0;31mValueError\u001b[0m: x and y must have same first dimension, but have shapes (6,) and (5,)"
     ]
    },
    {
     "data": {
      "image/png": "[encoded data removed]",
      "text/plain": [
       "<Figure size 640x480 with 1 Axes>"
      ]
     },
     "metadata": {},
     "output_type": "display_data"
    }
   ],
   "source": [
    "# Create a figure and axis for the plot\n",
    "fig, ax = plt.subplots()\n",
    "# use pyplot to visualise training curves\n",
    "ax.plot(np.arange(1, epoch+2),train_metrics['train_loss'],'g--',label='training_loss')\n",
    "ax.plot(np.arange(1, epoch+2),val_metrics['val_loss'],'r--',label='validation_loss')\n",
    "ax.plot(np.arange(1, epoch+2),train_metrics['train_acc'],'g',label='training_accuracy')\n",
    "ax.plot(np.arange(1, epoch+2),val_metrics['val_acc'],'r',label='validation_accuracy')\n",
    "ax.set_title('Training and Validation Curves')\n",
    "ax.set_xlabel('Epochs')\n",
    "ax.set_ylabel('metrics')\n",
    "ax.legend()\n",
    "plt.show()"
   ]
  },
  {
   "cell_type": "code",
   "execution_count": null,
   "metadata": {},
   "outputs": [],
   "source": []
  }
 ],
 "metadata": {
  "kernelspec": {
   "display_name": "Python 3 (ipykernel)",
   "language": "python",
   "name": "python3"
  },
  "language_info": {
   "codemirror_mode": {
    "name": "ipython",
    "version": 3
   },
   "file_extension": ".py",
   "mimetype": "text/x-python",
   "name": "python",
   "nbconvert_exporter": "python",
   "pygments_lexer": "ipython3",
   "version": "3.10.6"
  },
  "vscode": {
   "interpreter": {
    "hash": "4dce633ad74794d18e744ff4895033c1217399eea64af39aea26b4d3f3272ece"
   }
  }
 },
 "nbformat": 4,
 "nbformat_minor": 4
}
