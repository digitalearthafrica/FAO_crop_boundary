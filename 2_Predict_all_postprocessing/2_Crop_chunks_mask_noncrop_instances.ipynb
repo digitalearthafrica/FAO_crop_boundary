{
 "cells": [
  {
   "cell_type": "markdown",
   "id": "ddbcaf23-0f53-4333-aa20-c7bb64669e1b",
   "metadata": {},
   "source": [
    "This notebook crops field crop and boundary predictions, masks out field instances with no crops using DE Africa crop mask, and mosaick all chunks."
   ]
  },
  {
   "cell_type": "markdown",
   "id": "1c4be7f3-0331-4178-95f3-9f91cc6bfbc4",
   "metadata": {},
   "source": [
    "## Load packages and modules"
   ]
  },
  {
   "cell_type": "code",
   "execution_count": 1,
   "id": "4a85be2c-66d3-49b6-8476-2292968f617f",
   "metadata": {},
   "outputs": [
    {
     "name": "stderr",
     "output_type": "stream",
     "text": [
      "/usr/local/lib/python3.8/dist-packages/geopandas/_compat.py:112: UserWarning: The Shapely GEOS version (3.8.0-CAPI-1.13.1 ) is incompatible with the GEOS version PyGEOS was compiled with (3.10.3-CAPI-1.16.1). Conversions between both will be slow.\n",
      "  warnings.warn(\n"
     ]
    }
   ],
   "source": [
    "from glob import glob\n",
    "import os\n",
    "import subprocess\n",
    "import rasterio\n",
    "import datacube\n",
    "import numpy as np\n",
    "import geopandas as gpd\n",
    "import rioxarray\n",
    "from skimage import measure,morphology\n",
    "from osgeo import gdal"
   ]
  },
  {
   "cell_type": "markdown",
   "id": "e7aa52d4-d1bd-4123-b9b7-2655b3f362f6",
   "metadata": {},
   "source": [
    "## Define parameters"
   ]
  },
  {
   "cell_type": "code",
   "execution_count": 2,
   "id": "02addf02-5619-453c-bb12-6ebf467fe9a4",
   "metadata": {},
   "outputs": [],
   "source": [
    "country = 'Mozambique'\n",
    "str_year='2021'\n",
    "# input folder of input chunks\n",
    "input_folder='results'\n",
    "# folder to export results\n",
    "out_folder='results/processed'\n",
    "# number of pixels to crop from chunk borders\n",
    "crop_size=2\n",
    "# number of pixels for dilation of crop mask\n",
    "n_dilate=2"
   ]
  },
  {
   "cell_type": "code",
   "execution_count": 3,
   "id": "45f4fb67-2efb-4073-8110-ae5d54e2790d",
   "metadata": {},
   "outputs": [],
   "source": [
    "if not os.path.isdir(out_folder):\n",
    "    os.makedirs(out_folder)"
   ]
  },
  {
   "cell_type": "markdown",
   "id": "b3f43b57-aaf9-4880-a10b-f29a2319672a",
   "metadata": {},
   "source": [
    "## Identify list of segmented instances chunks"
   ]
  },
  {
   "cell_type": "code",
   "execution_count": 4,
   "id": "71942286-d9d4-4dfd-9ad1-56c89515992f",
   "metadata": {},
   "outputs": [
    {
     "name": "stdout",
     "output_type": "stream",
     "text": [
      "found 1007 cropped field instances chunks\n"
     ]
    }
   ],
   "source": [
    "files_instances=glob(input_folder+'/'+country+'_average_field_instance_'+str_year+'*.tif')\n",
    "print('found {} cropped field instances chunks'.format(len(files_instances)))"
   ]
  },
  {
   "cell_type": "markdown",
   "id": "897d955b-6aec-4eba-b96f-38aa40f2d2a7",
   "metadata": {},
   "source": [
    "## Crop extent, boundary and instance chunks"
   ]
  },
  {
   "cell_type": "code",
   "execution_count": 5,
   "id": "6e631227-8a15-4edf-9af4-bb0b18719709",
   "metadata": {},
   "outputs": [
    {
     "name": "stdout",
     "output_type": "stream",
     "text": [
      "CPU times: user 1.27 s, sys: 10.4 s, total: 11.7 s\n",
      "Wall time: 3min 22s\n"
     ]
    }
   ],
   "source": [
    "%%time\n",
    "# list of file names (cropped)\n",
    "files_instances_cropped=[]\n",
    "files_bound_cropped=[]\n",
    "files_extent_cropped=[]\n",
    "for file_instances in files_instances:\n",
    "    # extract size info\n",
    "    ds = gdal.Open(file_instances)\n",
    "    xsize=ds.RasterXSize-2*crop_size\n",
    "    ysize=ds.RasterYSize-2*crop_size\n",
    "    ds=None\n",
    "    \n",
    "    # crop field instances chunk\n",
    "    outname_instances=os.path.join(out_folder,os.path.basename(file_instances)[:-4]+'_cropped.tif')\n",
    "    files_instances_cropped.append(outname_instances)\n",
    "#     if not os.path.exists(outname):\n",
    "    gdal_cmd=[\"gdal_translate\", \"-of\", \"GTiff\",\"-srcwin\",str(crop_size),str(crop_size),str(xsize),str(ysize),file_instances,outname_instances]\n",
    "    subprocess.run(gdal_cmd,stdout=subprocess.DEVNULL)\n",
    "    \n",
    "    # crop field boundary prediction chunk\n",
    "    file_bound_pred=file_instances.replace('field_instance','bound_prob')\n",
    "    outname_bound=os.path.join(out_folder,os.path.basename(file_bound_pred)[:-4]+'_cropped.tif')\n",
    "    files_bound_cropped.append(outname_bound)\n",
    "    gdal_cmd=[\"gdal_translate\", \"-of\", \"GTiff\",\"-srcwin\",str(crop_size),str(crop_size),str(xsize),str(ysize),file_bound_pred,outname_bound]\n",
    "    subprocess.run(gdal_cmd,stdout=subprocess.DEVNULL)\n",
    "    \n",
    "    # crop field extent prediction chunk\n",
    "    file_extent_pred=file_instances.replace('field_instance','extent_prob')\n",
    "    outname_extent=os.path.join(out_folder,os.path.basename(file_extent_pred)[:-4]+'_cropped.tif')\n",
    "    files_extent_cropped.append(outname_extent)\n",
    "    gdal_cmd=[\"gdal_translate\", \"-of\", \"GTiff\",\"-srcwin\",str(crop_size),str(crop_size),str(xsize),str(ysize),file_extent_pred,outname_extent]\n",
    "    subprocess.run(gdal_cmd,stdout=subprocess.DEVNULL)"
   ]
  },
  {
   "cell_type": "markdown",
   "id": "08ea0abf-7a87-4e31-842e-d09cfd690d27",
   "metadata": {},
   "source": [
    "## Mask noncrop instances for all chunks and export as geotiff"
   ]
  },
  {
   "cell_type": "markdown",
   "id": "aab8f0ea-d1f2-4b8d-a98b-6c214571d8bb",
   "metadata": {},
   "source": [
    "- Read in chunk and load/resample DE Africa crop mask layer; \n",
    "- Only instances with no overlapping crop pixels will be masked out;\n",
    "- Export masked chunk as geotiff"
   ]
  },
  {
   "cell_type": "code",
   "execution_count": 6,
   "id": "3dd9dcad-10db-4b2f-80dd-83afbefafde7",
   "metadata": {},
   "outputs": [
    {
     "name": "stdout",
     "output_type": "stream",
     "text": [
      "CPU times: user 3min 31s, sys: 1min 25s, total: 4min 56s\n",
      "Wall time: 3min 15s\n"
     ]
    }
   ],
   "source": [
    "%%time\n",
    "files_instances_masked=[] # list of file names of masked field instance chunks\n",
    "for file_instances_cropped in files_instances_cropped:\n",
    "    # read in raster\n",
    "    ds = rasterio.open(file_instances_cropped)\n",
    "    crs=ds.crs.to_string()\n",
    "#     bbox=ds.bounds\n",
    "    arr_instances=ds.read(1)\n",
    "\n",
    "    # load DE Africa crop mask 2019\n",
    "    dc = datacube.Datacube(app='cropland_extent')\n",
    "#     x_min,y_min,x_max,y_max=bbox[0],bbox[1],bbox[2],bbox[3]\n",
    "#     query = {\n",
    "#         'time': ('2019'),\n",
    "#         'x': (x_min,x_max),\n",
    "#         'y': (y_min,y_max),\n",
    "#         'resolution':(-ds.res[0], ds.res[1]),\n",
    "#         'crs':crs,\n",
    "#         'output_crs':crs\n",
    "#     }\n",
    "#     cm = dc.load(product='crop_mask',**query).squeeze()\n",
    "    xr_ds=rioxarray.open_rasterio(file_instances_cropped).to_dataset(name='field_instance')\n",
    "    \n",
    "    # extract numpy arrays\n",
    "    cm = dc.load(product='crop_mask',like=xr_ds,time=('2019')).squeeze()\n",
    "    np_crop_mask=cm['mask'].to_numpy()\n",
    "    \n",
    "#     # dilate crop mask to keep more crop fields\n",
    "#     np_crop_mask=morphology.binary_dilation(np_crop_mask,footprint=morphology.disk(n_dilate))\n",
    "    \n",
    "    # mask noncrop instances as background (0)\n",
    "    n_instances=np.max(arr_instances)\n",
    "    arr_instances_masked=arr_instances.copy()\n",
    "    for value in range(1,n_instances+1):\n",
    "        if np.nansum((arr_instances==value)&(np_crop_mask==1))==0:\n",
    "            arr_instances_masked[arr_instances==value]=0\n",
    "    \n",
    "    # export as geotiff\n",
    "    out_meta = ds.meta\n",
    "    outname=file_instances_cropped[:-4]+'_masked.tif'\n",
    "    files_instances_masked.append(outname)\n",
    "    with rasterio.open(outname, 'w', **out_meta) as dst:\n",
    "        dst.write(arr_instances_masked, 1)"
   ]
  },
  {
   "cell_type": "markdown",
   "id": "a13306c6-8b2b-4570-bf3a-9e7476e57e9b",
   "metadata": {},
   "source": [
    "## Mosaic all chunks"
   ]
  },
  {
   "cell_type": "code",
   "execution_count": 7,
   "id": "0ba4fa83-322c-4723-a0f7-44c855e477f0",
   "metadata": {},
   "outputs": [
    {
     "name": "stdout",
     "output_type": "stream",
     "text": [
      "0...10...20...30...40...50...60...70...80...90...100 - done.\n"
     ]
    }
   ],
   "source": [
    "# mosaic boundary probabilities\n",
    "! gdal_merge.py -o results/processed/Mozambique_bound_prob_2021_04_08_12_mosaic.tif -co COMPRESS=Deflate results/processed/*average_bound_prob*_cropped.tif"
   ]
  },
  {
   "cell_type": "code",
   "execution_count": 8,
   "id": "5aa95cab-15e8-445b-9613-f9f910ae71b2",
   "metadata": {},
   "outputs": [
    {
     "name": "stdout",
     "output_type": "stream",
     "text": [
      "0...10...20...30...40...50...60...70...80...90...100 - done.\n"
     ]
    }
   ],
   "source": [
    "# mosaic extent results\n",
    "! gdal_merge.py -o results/processed/Mozambique_extent_prob_2021_04_08_12_mosaic.tif -co COMPRESS=Deflate results/processed/*average_extent_prob*_cropped.tif"
   ]
  },
  {
   "cell_type": "code",
   "execution_count": 9,
   "id": "5a234159-d9a6-4485-ab64-07e3ce7a193c",
   "metadata": {},
   "outputs": [
    {
     "name": "stdout",
     "output_type": "stream",
     "text": [
      "0...10...20...30...40...50...60...70...80...90...100 - done.\n"
     ]
    }
   ],
   "source": [
    "# mosaic masked instance results\n",
    "! gdal_merge.py -o results/processed/Mozambique_field_instance_2021_04_08_12_mosaic.tif -co COMPRESS=Deflate results/processed/*average_field_instance*_cropped_masked.tif"
   ]
  },
  {
   "cell_type": "markdown",
   "id": "b980121d-422c-4f1a-aedc-f388761e2252",
   "metadata": {},
   "source": [
    "## Delete intermediate cropped chunks to save space (optional)"
   ]
  },
  {
   "cell_type": "code",
   "execution_count": 10,
   "id": "df93aa27-bc57-4360-ac2b-e9ae9b7b1452",
   "metadata": {},
   "outputs": [],
   "source": [
    "for fn in files_instances_cropped:\n",
    "    if os.path.exists(fn):\n",
    "        os.remove(fn)"
   ]
  },
  {
   "cell_type": "code",
   "execution_count": 11,
   "id": "d4901fa0-9db4-48e2-a4b9-80cc84be8e24",
   "metadata": {},
   "outputs": [],
   "source": [
    "for fn in files_bound_cropped:\n",
    "    if os.path.exists(fn):\n",
    "        os.remove(fn)"
   ]
  },
  {
   "cell_type": "code",
   "execution_count": 12,
   "id": "41e9fde6-e132-4f5f-a2dc-b38e5dfa8489",
   "metadata": {},
   "outputs": [],
   "source": [
    "for fn in files_extent_cropped:\n",
    "    if os.path.exists(fn):\n",
    "        os.remove(fn)"
   ]
  },
  {
   "cell_type": "code",
   "execution_count": null,
   "id": "c8b5d8d9-2e12-4881-bb82-df3620e9720c",
   "metadata": {},
   "outputs": [],
   "source": []
  }
 ],
 "metadata": {
  "kernelspec": {
   "display_name": "Python 3 (ipykernel)",
   "language": "python",
   "name": "python3"
  },
  "language_info": {
   "codemirror_mode": {
    "name": "ipython",
    "version": 3
   },
   "file_extension": ".py",
   "mimetype": "text/x-python",
   "name": "python",
   "nbconvert_exporter": "python",
   "pygments_lexer": "ipython3",
   "version": "3.8.10"
  }
 },
 "nbformat": 4,
 "nbformat_minor": 5
}
