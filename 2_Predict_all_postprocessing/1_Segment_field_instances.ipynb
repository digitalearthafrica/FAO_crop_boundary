{
 "cells": [
  {
   "cell_type": "markdown",
   "id": "697dbdb4-c764-43a1-afb6-ad4fee4acaa8",
   "metadata": {},
   "source": [
    "This notebook implements crop field instance segmentation using predicted crop field extent and boundary probabilities."
   ]
  },
  {
   "cell_type": "markdown",
   "id": "bf3f75b2-c4e7-4f9d-a985-c15e87f24bc1",
   "metadata": {},
   "source": [
    "## Load packages and modules"
   ]
  },
  {
   "cell_type": "code",
   "execution_count": 1,
   "id": "46ecca6f-0767-4d87-bd6b-90baeef13825",
   "metadata": {},
   "outputs": [],
   "source": [
    "import numpy as np\n",
    "import imageio.v2 as imageio\n",
    "from osgeo import gdal\n",
    "import os\n",
    "from glob import glob\n",
    "from skimage import measure\n",
    "import pandas as pd\n",
    "import subprocess\n",
    "import sys\n",
    "\n",
    "module_paths=['../1_Tune_hyperparameters_model_evaluation']\n",
    "for module_path in module_paths:\n",
    "    if module_path not in sys.path:\n",
    "        sys.path.append(module_path)"
   ]
  },
  {
   "cell_type": "code",
   "execution_count": 2,
   "id": "9b0352a2-5cc3-43df-8cba-e6762c56539c",
   "metadata": {},
   "outputs": [],
   "source": [
    "# import functions from modules\n",
    "from datasets import export_geotiff\n",
    "from instance_segment import InstSegm"
   ]
  },
  {
   "cell_type": "markdown",
   "id": "48856e99-cec9-4e11-ad62-3ef09e3d3232",
   "metadata": {},
   "source": [
    "## Define parameters"
   ]
  },
  {
   "cell_type": "code",
   "execution_count": 3,
   "id": "24b94e31-7f0c-4ba2-9780-538a26074051",
   "metadata": {},
   "outputs": [],
   "source": [
    "# input folder for predictions\n",
    "input_folder='results'\n",
    "\n",
    "# output folder to store instance segmentation results\n",
    "out_folder=input_folder\n",
    "\n",
    "# grid search results of thresholds\n",
    "grd_search_df='../1_Tune_hyperparameters_model_evaluation/results/averaged/grid_search_thresholds.csv'\n",
    "\n",
    "country = 'Mozambique'\n",
    "str_year='2021'"
   ]
  },
  {
   "cell_type": "markdown",
   "id": "7d85c8d8-6a77-4aa1-8705-5c2cd3847f10",
   "metadata": {},
   "source": [
    "## Do instance segmentation for all chunks and export as geotiff"
   ]
  },
  {
   "cell_type": "code",
   "execution_count": 4,
   "id": "7a5e1306-92ef-4fbe-904e-1753326b56ff",
   "metadata": {},
   "outputs": [
    {
     "name": "stdout",
     "output_type": "stream",
     "text": [
      "Found 1007 field exent probability images\n",
      "Found 1007 field boundary probability images\n"
     ]
    }
   ],
   "source": [
    "# Load predicted exent and boundary files\n",
    "files_extent_predictions=glob(input_folder+'/'+country+'_average_extent_prob_'+str_year+'*.tif')\n",
    "print('Found {} field exent probability images'.format(len(files_extent_predictions)))\n",
    "\n",
    "files_bound_predictions=glob(input_folder+'/'+country+'_average_bound_prob_'+str_year+'*.tif')\n",
    "print('Found {} field boundary probability images'.format(len(files_bound_predictions)))"
   ]
  },
  {
   "cell_type": "code",
   "execution_count": 5,
   "id": "c853b7c4-41e1-4c72-b63e-3c136e418716",
   "metadata": {},
   "outputs": [],
   "source": [
    "# read in or provide the best thresholds\n",
    "if not grd_search_df is None:\n",
    "    hp_df=pd.read_csv(grd_search_df)\n",
    "    t_ext_best=hp_df.iloc[hp_df['mIoU'].idxmax()]['t_ext']\n",
    "    t_bnd_best=hp_df.iloc[hp_df['mIoU'].idxmax()]['t_bound']\n",
    "else:\n",
    "    t_ext_best=0.3\n",
    "    t_bnd_best=0.1"
   ]
  },
  {
   "cell_type": "code",
   "execution_count": 6,
   "id": "75a4ae3e-d408-4566-a6eb-8232b4703ac1",
   "metadata": {},
   "outputs": [
    {
     "name": "stdout",
     "output_type": "stream",
     "text": [
      "CPU times: user 1min 56s, sys: 1.93 s, total: 1min 58s\n",
      "Wall time: 1min 23s\n"
     ]
    }
   ],
   "source": [
    "%%time\n",
    "instance_file_names=[] # exported field instance chunks\n",
    "# loop through all averaged prediction chunks\n",
    "for file_exent_prediction in files_extent_predictions:\n",
    "    # extract geo information using gdal\n",
    "    ds = gdal.Open(file_exent_prediction)\n",
    "    geotrans=ds.GetGeoTransform()\n",
    "    proj=ds.GetProjection()\n",
    "    ds=None\n",
    "    # corresponding boundary prediction\n",
    "    file_bound_prediction=file_exent_prediction.replace('extent','bound')\n",
    "\n",
    "    # read in files\n",
    "    extent_prob=imageio.imread(file_exent_prediction)\n",
    "    bound_prob=imageio.imread(file_bound_prediction)\n",
    "\n",
    "    # do segmentation\n",
    "    instances_predicted=InstSegm(extent_prob, bound_prob, t_ext=t_ext_best, t_bound=t_bnd_best)\n",
    "    \n",
    "    # label connected regions, non-field (-1) will be labelled as 0\n",
    "    instances_predicted= measure.label(instances_predicted, background=-1,return_num=False)\n",
    "\n",
    "    # export as geotiff\n",
    "    outname=os.path.join(out_folder,os.path.basename(file_exent_prediction).replace('extent_prob','field_instance'))\n",
    "    instance_file_names.append(outname)\n",
    "    if not os.path.exists(outname):\n",
    "        export_geotiff(outname,instances_predicted,geotrans,proj,gdal.GDT_Int16)"
   ]
  }
 ],
 "metadata": {
  "kernelspec": {
   "display_name": "Python 3 (ipykernel)",
   "language": "python",
   "name": "python3"
  },
  "language_info": {
   "codemirror_mode": {
    "name": "ipython",
    "version": 3
   },
   "file_extension": ".py",
   "mimetype": "text/x-python",
   "name": "python",
   "nbconvert_exporter": "python",
   "pygments_lexer": "ipython3",
   "version": "3.8.10"
  }
 },
 "nbformat": 4,
 "nbformat_minor": 5
}
