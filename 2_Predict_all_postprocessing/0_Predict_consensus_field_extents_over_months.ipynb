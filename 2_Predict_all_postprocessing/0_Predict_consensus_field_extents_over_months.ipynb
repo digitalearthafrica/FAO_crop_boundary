{
 "cells": [
  {
   "cell_type": "markdown",
   "id": "64bb0f8a-4d09-4392-8f79-5affdc743360",
   "metadata": {},
   "source": [
    "This notebook implements prediction of field extent and boundary probabilities as well as instance segmentation for all Planet RGB chunks, using FracTAL ResUNet model, pre-trained weights and fine-tuned hyperparameters."
   ]
  },
  {
   "cell_type": "markdown",
   "id": "9ae26a4a-d637-4110-b45d-dc6d68739730",
   "metadata": {},
   "source": [
    "## Load packages and modules"
   ]
  },
  {
   "cell_type": "code",
   "execution_count": 1,
   "id": "10375285-5195-4a75-bc17-9490a3dbcb98",
   "metadata": {},
   "outputs": [],
   "source": [
    "import numpy as np\n",
    "# import pandas as pd\n",
    "import os\n",
    "from tqdm import tqdm\n",
    "import mxnet as mx\n",
    "from mxnet import gluon\n",
    "from mxnet import image\n",
    "from glob import glob\n",
    "# import imageio.v2 as imageio\n",
    "from osgeo import gdal, osr\n",
    "import sys\n",
    "from multiprocessing import cpu_count\n",
    "\n",
    "# add existing and decode modules to system path\n",
    "module_paths=['../1_Identify_months_thresholds_model_evaluation','../1_Identify_months_thresholds_model_evaluation/decode/FracTAL_ResUNet/models/semanticsegmentation',\n",
    "             '../1_Identify_months_thresholds_model_evaluation/decode/FracTAL_ResUNet/nn/loss']\n",
    "for module_path in module_paths:\n",
    "    if module_path not in sys.path:\n",
    "        sys.path.append(module_path)\n",
    "# print(sys.path)"
   ]
  },
  {
   "cell_type": "code",
   "execution_count": 2,
   "id": "61e30b02-0589-478c-917c-5b420645d3d7",
   "metadata": {},
   "outputs": [],
   "source": [
    "# import functions from modules\n",
    "from FracTAL_ResUNet import FracTAL_ResUNet_cmtsk\n",
    "from datasets import *"
   ]
  },
  {
   "cell_type": "markdown",
   "id": "f013a85c-006b-4dee-ae20-9d2e76691f51",
   "metadata": {},
   "source": [
    "## Define parameters"
   ]
  },
  {
   "cell_type": "code",
   "execution_count": 3,
   "id": "bb7aa6bb-e9b8-4698-9b64-50594d4be1b2",
   "metadata": {},
   "outputs": [],
   "source": [
    "# hyperparameters for model architecture\n",
    "n_filters = 32\n",
    "depth = 6\n",
    "n_classes = 1\n",
    "batch_size = 20\n",
    "codes_to_keep = [1]\n",
    "ctx_name = 'cpu'\n",
    "gpu_id = 0\n",
    "boundary_kernel_size = (2,2)\n",
    "\n",
    "# other parameters\n",
    "country = 'Rwanda'\n",
    "CPU_COUNT = cpu_count()\n",
    "srs = osr.SpatialReference()\n",
    "srs.ImportFromEPSG(3857)\n",
    "prj=srs.ExportToWkt()\n",
    "\n",
    "# str_months=['04','08','12'] # best months\n",
    "str_months=['04','10','12'] # best months\n",
    "str_year='2021'\n",
    "\n",
    "# folder of input RGB chunk geotiffs\n",
    "input_folder='../0_Data_preparation/results/RGB_chunks'\n",
    "\n",
    "# folder to store output model predictions\n",
    "out_folder='results'\n",
    "\n",
    "# pre-trained model weights\n",
    "# trained_model='../1_Identify_months_thresholds_model_evaluation/model_weights/Planet_france.params' # trained and fine-tuned on planet data of France\n",
    "trained_model='../1_Identify_months_thresholds_model_evaluation/model_weights/Planet_pretrained-france_finetuned-india.params' # trained on planet data of France and fine-tuned on India\n",
    "# trained_model = '../1_Identify_months_thresholds_model_evaluation/model_weights/Airbus_pretrained-france_finetuned-india.params' # trained and fine-tuned on SPOT data of France"
   ]
  },
  {
   "cell_type": "code",
   "execution_count": 4,
   "id": "5231bae8-78ea-45f7-b6d6-0627a121cfe1",
   "metadata": {},
   "outputs": [],
   "source": [
    "if not os.path.isdir(out_folder):\n",
    "    os.makedirs(out_folder)"
   ]
  },
  {
   "cell_type": "markdown",
   "id": "d11d32d0-ec97-4429-a8b7-88c0fa8e95ce",
   "metadata": {},
   "source": [
    "## Create dataset and dataloader"
   ]
  },
  {
   "cell_type": "code",
   "execution_count": 5,
   "id": "3808f3a9-5d6c-4e84-8fc5-c92b758d29d5",
   "metadata": {},
   "outputs": [
    {
     "name": "stdout",
     "output_type": "stream",
     "text": [
      "Found 18113 unique chunks\n"
     ]
    }
   ],
   "source": [
    "# extract ids for all chunks\n",
    "file_names=glob(os.path.join(input_folder,country+'*'+str_year+'*.tif'))\n",
    "chunk_ids=[]\n",
    "for file_name in file_names:\n",
    "    # chunk id\n",
    "    chunk_id='_'.join(os.path.basename(file_name)[:-4].split('_')[-2:])\n",
    "    chunk_ids.append(chunk_id)\n",
    "chunk_ids=set(chunk_ids)\n",
    "print('Found {} unique chunks'.format(len(chunk_ids)))"
   ]
  },
  {
   "cell_type": "code",
   "execution_count": 6,
   "id": "63b62414-8988-45e6-a5e7-6d343682bc91",
   "metadata": {},
   "outputs": [],
   "source": [
    "# list of names for all selected months\n",
    "fn_months={str_month: [] for str_month in str_months}\n",
    "for str_month in str_months:\n",
    "    for chunk_id in chunk_ids:\n",
    "        fn_prefix='_'.join([country,'planet_medres_visual',str_year,str_month,chunk_id])\n",
    "        image_name=os.path.join(input_folder,fn_prefix+'.tif')\n",
    "        fn_months[str_month].append(image_name)"
   ]
  },
  {
   "cell_type": "markdown",
   "id": "1ef9295d-31e9-4157-b792-a77e8ed54ab0",
   "metadata": {},
   "source": [
    "## Load pre-trained model and run inference in batch"
   ]
  },
  {
   "cell_type": "code",
   "execution_count": 7,
   "id": "1e703783-8c13-441b-82c3-45398f7f3124",
   "metadata": {},
   "outputs": [
    {
     "name": "stdout",
     "output_type": "stream",
     "text": [
      "depth:= 0, nfilters: 32, nheads::8, widths::1\n",
      "depth:= 1, nfilters: 64, nheads::16, widths::1\n",
      "depth:= 2, nfilters: 128, nheads::32, widths::1\n",
      "depth:= 3, nfilters: 256, nheads::64, widths::1\n",
      "depth:= 4, nfilters: 512, nheads::128, widths::1\n",
      "depth:= 5, nfilters: 1024, nheads::256, widths::1\n",
      "depth:= 6, nfilters: 512, nheads::256, widths::1\n",
      "depth:= 7, nfilters: 256, nheads::128, widths::1\n",
      "depth:= 8, nfilters: 128, nheads::64, widths::1\n",
      "depth:= 9, nfilters: 64, nheads::32, widths::1\n",
      "depth:= 10, nfilters: 32, nheads::16, widths::1\n"
     ]
    }
   ],
   "source": [
    "# Set MXNet ctx\n",
    "if ctx_name == 'cpu':\n",
    "    ctx = mx.cpu()\n",
    "elif ctx_name == 'gpu':\n",
    "    ctx = mx.gpu(gpu_id)\n",
    "\n",
    "# initialise model\n",
    "model = FracTAL_ResUNet_cmtsk(nfilters_init=n_filters, depth=depth, NClasses=n_classes)\n",
    "\n",
    "# load pre-trained model parameters\n",
    "model.load_parameters(trained_model, ctx=ctx)"
   ]
  },
  {
   "cell_type": "code",
   "execution_count": null,
   "id": "45769bad-bb9d-4d30-9146-3c73f036a6ee",
   "metadata": {},
   "outputs": [
    {
     "name": "stderr",
     "output_type": "stream",
     "text": [
      "  2%|▏         | 15/906 [05:33<5:29:41, 22.20s/it]"
     ]
    }
   ],
   "source": [
    "%%time\n",
    "for month_i in range(len(str_months)):\n",
    "    \n",
    "    # create dataset and dataloader\n",
    "    test_dataset = Planet_Dataset_No_labels(image_names=fn_months[str_months[month_i]])\n",
    "#     test_dataloader = gluon.data.DataLoader(test_dataset, batch_size=batch_size,num_workers=CPU_COUNT)\n",
    "    test_dataloader = gluon.data.DataLoader(test_dataset, batch_size=batch_size,num_workers=1)\n",
    "    \n",
    "    # run model\n",
    "    for batch_i, img_data in enumerate(tqdm(test_dataloader)):\n",
    "        # extract batch data\n",
    "        imgs,id_dates,geotrans=img_data\n",
    "\n",
    "        # make a copy if the variable currently lives in the wrong context\n",
    "        imgs = imgs.as_in_context(ctx)\n",
    "\n",
    "        # predicted outputs: field extent probability, field boundary probability and distance to boundary\n",
    "        logits, bound, dist = model(imgs)\n",
    "        \n",
    "        # average and export predictions for each batch\n",
    "        bt_size=id_dates.asnumpy().shape[0]\n",
    "        for i in range(bt_size):\n",
    "            # extract predictions\n",
    "            extent_average=logits[i,:,:].asnumpy().squeeze()\n",
    "            bound_average=bound[i,:,:].asnumpy().squeeze()\n",
    "            # extract date and id information\n",
    "            id_date=id_dates[i,:].asnumpy().astype(int)\n",
    "            chunk_id='_'.join([str(s).zfill(3) for s in id_date[2:]]) # zfill rows and cols so that output files also have uniform file name length\n",
    "            # extract spatial information\n",
    "            gt=geotrans[i,:].asnumpy()\n",
    "            \n",
    "            # output file names\n",
    "            outname_extent='_'.join([country,'average_extent_prob',str_year,'_'.join(str_months),chunk_id])+'.tif'\n",
    "            outname_extent=os.path.join(out_folder,outname_extent)\n",
    "            outname_bound='_'.join([country,'average_bound_prob',str_year,'_'.join(str_months),chunk_id])+'.tif'\n",
    "            outname_bound=os.path.join(out_folder,outname_bound)\n",
    "            \n",
    "            # update averaged predictions\n",
    "            if month_i>0:\n",
    "                temp_extent=imageio.imread(outname_extent)\n",
    "                extent_average+=temp_extent\n",
    "                temp_bound=imageio.imread(outname_bound)\n",
    "                bound_average+=temp_bound\n",
    "            if month_i==len(str_months)-1:\n",
    "                extent_average/=len(str_months)*1.0\n",
    "                bound_average/=len(str_months)*1.0\n",
    "            # export as geotiff\n",
    "            export_geotiff(outname_extent,extent_average,gt,prj,gdal.GDT_Float32)\n",
    "            export_geotiff(outname_bound,bound_average,gt,prj,gdal.GDT_Float32)"
   ]
  },
  {
   "cell_type": "code",
   "execution_count": null,
   "id": "f133d21b-95a3-452a-bbdc-728d93897749",
   "metadata": {},
   "outputs": [],
   "source": []
  }
 ],
 "metadata": {
  "kernelspec": {
   "display_name": "Python 3 (ipykernel)",
   "language": "python",
   "name": "python3"
  },
  "language_info": {
   "codemirror_mode": {
    "name": "ipython",
    "version": 3
   },
   "file_extension": ".py",
   "mimetype": "text/x-python",
   "name": "python",
   "nbconvert_exporter": "python",
   "pygments_lexer": "ipython3",
   "version": "3.8.10"
  }
 },
 "nbformat": 4,
 "nbformat_minor": 5
}
