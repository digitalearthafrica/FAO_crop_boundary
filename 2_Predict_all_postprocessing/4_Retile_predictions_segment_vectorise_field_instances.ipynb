{
 "cells": [
  {
   "cell_type": "markdown",
   "id": "ab641433-0b6e-45d5-ad4d-cf0d83339193",
   "metadata": {},
   "source": [
    "This notebook implements retiling of the predictions into larger tiles, instance segmentation and postprocessing of the segmentation results."
   ]
  },
  {
   "cell_type": "markdown",
   "id": "d4b3e646-dfe7-4f6f-9aba-437d5920b9d2",
   "metadata": {},
   "source": [
    "## Load packages and modules"
   ]
  },
  {
   "cell_type": "code",
   "execution_count": null,
   "id": "df43dc1b-3716-4910-904a-194863ee3fe3",
   "metadata": {},
   "outputs": [],
   "source": [
    "import numpy as np\n",
    "import imageio.v2 as imageio\n",
    "from osgeo import gdal\n",
    "import os\n",
    "from glob import glob\n",
    "from skimage import measure, util\n",
    "import pandas as pd\n",
    "import geopandas as gpd\n",
    "from shapely.ops import unary_union\n",
    "import rasterio\n",
    "from deafrica_tools.spatial import xr_rasterize\n",
    "import subprocess\n",
    "import sys\n",
    "from shapely.geometry import box\n",
    "import rioxarray\n",
    "import datacube\n",
    "module_paths=['../1_Identify_months_thresholds_model_evaluation']\n",
    "for module_path in module_paths:\n",
    "    if module_path not in sys.path:\n",
    "        sys.path.append(module_path)"
   ]
  },
  {
   "cell_type": "code",
   "execution_count": 2,
   "id": "715deba2-2703-49a0-94bb-c6531b99c4b8",
   "metadata": {},
   "outputs": [],
   "source": [
    "# import functions from modules\n",
    "from datasets import export_geotiff\n",
    "from instance_segment import InstSegm"
   ]
  },
  {
   "cell_type": "markdown",
   "id": "095f848a-09f3-43e6-a24d-540dca59c9cf",
   "metadata": {},
   "source": [
    "## Define parameters"
   ]
  },
  {
   "cell_type": "code",
   "execution_count": 3,
   "id": "16a3edd6-95ee-480b-98f1-6baf685fb766",
   "metadata": {},
   "outputs": [],
   "source": [
    "# tiles_shp='input_data/Rwanda_tiles_edited.shp'\n",
    "# extent_mosaic='results/processed/Rwanda_extent_prob_2021_04_10_12_mosaic.tif'\n",
    "# bound_mosaic='results/processed/Rwanda_bound_prob_2021_04_10_12_mosaic.tif'\n",
    "# instance_mosaic='results/processed/Rwanda_field_instance_2021_04_10_12_mosaic.tif'\n",
    "# grd_search_df='../1_Identify_months_thresholds_model_evaluation/results/averaged/Rwanda_grid_search_thresholds.csv' # grid search results of thresholds\n",
    "# country = 'Rwanda'\n",
    "# str_year='2021'\n",
    "# out_crs='epsg:3857'"
   ]
  },
  {
   "cell_type": "code",
   "execution_count": 8,
   "id": "78a04b9b-6221-4280-acfe-49c041b647ed",
   "metadata": {},
   "outputs": [],
   "source": [
    "tiles_shp='input_data/Mozambique_AOI_for_crop_boundary_validation.shp'\n",
    "extent_mosaic='results/processed/Mozambique_extent_prob_2021_04_08_12_mosaic.tif'\n",
    "bound_mosaic='results/processed/Mozambique_bound_prob_2021_04_08_12_mosaic.tif'\n",
    "instance_mosaic='results/processed/Mozambique_field_instance_2021_04_08_12_mosaic.tif'\n",
    "grd_search_df='../1_Identify_months_thresholds_model_evaluation/results/averaged/grid_search_thresholds.csv' # grid search results of thresholds\n",
    "country = 'Mozambique'\n",
    "str_year='2021'\n",
    "out_crs='epsg:3857'"
   ]
  },
  {
   "cell_type": "code",
   "execution_count": 9,
   "id": "b498135a-7e10-4619-9f67-c3e691d4ad52",
   "metadata": {},
   "outputs": [],
   "source": [
    "out_folder='results_retiled_new'\n",
    "if not os.path.isdir(out_folder):\n",
    "    os.makedirs(out_folder)"
   ]
  },
  {
   "cell_type": "markdown",
   "id": "4b282529-81a8-42c3-9455-e183bde7c718",
   "metadata": {},
   "source": [
    "## Read in tiles"
   ]
  },
  {
   "cell_type": "code",
   "execution_count": 10,
   "id": "88b7dad7-85b7-4b81-904c-52cd405637a0",
   "metadata": {},
   "outputs": [
    {
     "data": {
      "text/html": [
       "<div>\n",
       "<style scoped>\n",
       "    .dataframe tbody tr th:only-of-type {\n",
       "        vertical-align: middle;\n",
       "    }\n",
       "\n",
       "    .dataframe tbody tr th {\n",
       "        vertical-align: top;\n",
       "    }\n",
       "\n",
       "    .dataframe thead th {\n",
       "        text-align: right;\n",
       "    }\n",
       "</style>\n",
       "<table border=\"1\" class=\"dataframe\">\n",
       "  <thead>\n",
       "    <tr style=\"text-align: right;\">\n",
       "      <th></th>\n",
       "      <th>ADM2_PT</th>\n",
       "      <th>ADM1_PT</th>\n",
       "      <th>Area_km2</th>\n",
       "      <th>geometry</th>\n",
       "    </tr>\n",
       "  </thead>\n",
       "  <tbody>\n",
       "    <tr>\n",
       "      <th>0</th>\n",
       "      <td>Nicoadala</td>\n",
       "      <td>Zambezia</td>\n",
       "      <td>1202.755</td>\n",
       "      <td>POLYGON ((4080024.698 -1975813.774, 4081285.53...</td>\n",
       "    </tr>\n",
       "  </tbody>\n",
       "</table>\n",
       "</div>"
      ],
      "text/plain": [
       "     ADM2_PT   ADM1_PT  Area_km2  \\\n",
       "0  Nicoadala  Zambezia  1202.755   \n",
       "\n",
       "                                            geometry  \n",
       "0  POLYGON ((4080024.698 -1975813.774, 4081285.53...  "
      ]
     },
     "execution_count": 10,
     "metadata": {},
     "output_type": "execute_result"
    }
   ],
   "source": [
    "tiles=gpd.read_file(tiles_shp).to_crs(out_crs)\n",
    "bboxes=tiles.bounds\n",
    "crs=tiles.crs.to_string()\n",
    "tiles"
   ]
  },
  {
   "cell_type": "code",
   "execution_count": 11,
   "id": "94d2c24f-92e7-43df-b852-8feec9f2f870",
   "metadata": {},
   "outputs": [],
   "source": [
    "# read in or provide the best thresholds\n",
    "if not grd_search_df is None:\n",
    "    hp_df=pd.read_csv(grd_search_df)\n",
    "    t_ext_best=hp_df.iloc[hp_df['mIoU'].idxmax()]['t_ext']\n",
    "    t_bnd_best=hp_df.iloc[hp_df['mIoU'].idxmax()]['t_bound']\n",
    "else:\n",
    "    t_ext_best=0.3\n",
    "    t_bnd_best=0.1"
   ]
  },
  {
   "cell_type": "markdown",
   "id": "cb651481-4dee-4db0-94d5-6561f1d6dfac",
   "metadata": {},
   "source": [
    "### Generating vector and raster field boundary outputs\n",
    "Following steps are implemented:\n",
    "* clip boundary and extent probabilities mosaics to tile extent\n",
    "* do instance segmentation on the tiled predictions\n",
    "* label individual crop fields\n",
    "* filter out crop field instances without crops using DE Africa crop extent layer and wofs layer\n",
    "* polygonise and export masked fields in vector and raster formats"
   ]
  },
  {
   "cell_type": "code",
   "execution_count": 12,
   "id": "211a058d-2ad5-4b57-ba79-2813e97a3023",
   "metadata": {},
   "outputs": [],
   "source": [
    "t_pct_crop=0 # threshold percentage of crop pixels within field object\n",
    "t_wofs=0.5 # threshold wet frequency for wofs"
   ]
  },
  {
   "cell_type": "code",
   "execution_count": 13,
   "id": "559e88b3-d73f-468e-a34d-49df0968017d",
   "metadata": {},
   "outputs": [
    {
     "name": "stdout",
     "output_type": "stream",
     "text": [
      "processing tile  0\n",
      "retiling the boundary, extent and instance rasters...\n",
      "doing segmentation...\n",
      "number of field instances after segmentation:  322687\n",
      "number of field instances after labelling:  328255\n",
      "polygonizing filtered field instances...\n",
      "0...10...20...30...40...50...60...70...80...90...Creating output results_retiled_new/Mozambique_field_instance_2021_04_08_12_masked_tile_0.shp of format ESRI Shapefile.\n",
      "100 - done.\n"
     ]
    }
   ],
   "source": [
    "shp_tiles_masked=[]\n",
    "for index,tile in tiles.iterrows():\n",
    "    print('processing tile ',index)\n",
    "    # get bbox\n",
    "    minx,miny,maxx,maxy=bboxes.iloc[index]\n",
    "    # clip predictions mosaic using tile\n",
    "    print('retiling the boundary, extent and instance rasters...')\n",
    "    out_bound=os.path.join(out_folder, country+'_bound_prob_tile_'+str(index)+'.tif')\n",
    "    gdal_cmd=[\"gdal_translate\", \"-of\", \"GTiff\",\n",
    "              \"-projwin\",str(minx),str(maxy),str(maxx),str(miny),\n",
    "              '-projwin_srs',crs,bound_mosaic,out_bound]\n",
    "    subprocess.run(gdal_cmd,stdout=subprocess.DEVNULL)\n",
    "    \n",
    "    out_extent=out_bound.replace('bound','extent')\n",
    "    gdal_cmd=[\"gdal_translate\", \"-of\", \"GTiff\",\n",
    "          \"-projwin\",str(minx),str(maxy),str(maxx),str(miny),\n",
    "          '-projwin_srs',crs,extent_mosaic,out_extent]\n",
    "    subprocess.run(gdal_cmd,stdout=subprocess.DEVNULL)\n",
    "    \n",
    "    out_instance=out_bound.replace('bound_prob','field_instance')\n",
    "    gdal_cmd=[\"gdal_translate\", \"-of\", \"GTiff\",\n",
    "          \"-projwin\",str(minx),str(maxy),str(maxx),str(miny),\n",
    "          '-projwin_srs',crs,instance_mosaic,out_instance]\n",
    "    subprocess.run(gdal_cmd,stdout=subprocess.DEVNULL)\n",
    "    \n",
    "    # read in clipped predictions\n",
    "    ds_extent = gdal.Open(out_extent)\n",
    "    geotrans=ds_extent.GetGeoTransform()\n",
    "    proj=ds_extent.GetProjection()\n",
    "    ds_extent=None\n",
    "\n",
    "    extent_prob=imageio.imread(out_extent)\n",
    "    bound_prob=imageio.imread(out_bound)\n",
    "    field_instance=imageio.imread(out_instance)\n",
    "\n",
    "    # do segmentation\n",
    "    print('doing segmentation...')\n",
    "    instances_predicted=InstSegm(extent_prob, bound_prob, t_ext=t_ext_best, t_bound=t_bnd_best)\n",
    "    instances_predicted+=1 # non-field/background value from -1 to 0\n",
    "    print('number of field instances after segmentation: ',len(np.unique(instances_predicted))-1)\n",
    "\n",
    "    # label connected regions, non-field will be labelled as 0\n",
    "    instances_labelled,n_features= measure.label(instances_predicted, background=0,return_num=True)\n",
    "    print('number of field instances after labelling: ',n_features)\n",
    "    \n",
    "    # mask out originally nodata pixels\n",
    "    instances_labelled[field_instance==0]=0\n",
    "    \n",
    "    # export labelled instances as geotiff\n",
    "    outname=os.path.join(out_folder,os.path.basename(extent_mosaic).replace('mosaic','unmasked_tile_')[:-4]+str(index)+'.tif')\n",
    "    outname=outname.replace('extent_prob','field_instance')\n",
    "    export_geotiff(outname,instances_labelled,geotrans,proj,gdal.GDT_Int32)\n",
    "    \n",
    "    # mask using DE Africa crop mask and wofs\n",
    "    # load DE Africa crop mask 2019\n",
    "    xr_ds=rioxarray.open_rasterio(outname).to_dataset(name='field_instance')\n",
    "    dc = datacube.Datacube(app='cropland_extent')\n",
    "    cm = dc.load(product='crop_mask',measurements=['filtered'],like=xr_ds,time=('2019'))\n",
    "    np_crop_mask=cm['filtered'].squeeze().to_numpy()\n",
    "    np_crop_mask=np_crop_mask==1\n",
    "    \n",
    "    # load wofs layer\n",
    "    dc = datacube.Datacube(app='water_extent')\n",
    "    wofs = dc.load(product=\"wofs_ls_summary_alltime\",measurements=['frequency'],like=xr_ds,resampling='nearest')\n",
    "#     wofs = dc.load(product=\"wofs_ls_summary_annual\",measurements=['frequency'],like=xr_ds,time=('2021'),resampling='nearest')\n",
    "    water_mask=wofs['frequency'].squeeze().to_numpy()\n",
    "    \n",
    "    overall_mask=(np_crop_mask)&((water_mask<t_wofs)|(np.isnan(water_mask)))\n",
    "\n",
    "    table = measure.regionprops_table(\n",
    "    instances_labelled,\n",
    "    overall_mask,\n",
    "    properties=('label','intensity_mean'),\n",
    "    )\n",
    "    condition = table['intensity_mean']>t_pct_crop\n",
    "    # zero out labels not meeting condition\n",
    "    input_labels = table['label']\n",
    "    output_labels = input_labels * condition\n",
    "    instances_labelled_masked = util.map_array(\n",
    "        instances_labelled, input_labels, output_labels\n",
    "    )\n",
    "\n",
    "    # export masked as geotiff\n",
    "    outname_masked=outname.replace('unmasked','masked')\n",
    "    export_geotiff(outname_masked,instances_labelled_masked,geotrans,proj,gdal.GDT_Int32)\n",
    "        \n",
    "    # polygonise masked\n",
    "    print('polygonizing filtered field instances...')\n",
    "    outname_shp=outname_masked.replace('.tif','.shp')\n",
    "    shp_tiles_masked.append(outname_shp)\n",
    "    if os.path.exists(outname_shp):\n",
    "        print('file existing, skipping...')\n",
    "    else:\n",
    "        cmd=['gdal_polygonize.py','-8','-mask',outname_masked,'-b','1',outname_masked,outname_shp]\n",
    "        subprocess.run(cmd)\n",
    "        \n",
    "    # remove rasters to save space\n",
    "    os.remove(out_bound)\n",
    "    os.remove(out_extent)\n",
    "    os.remove(out_instance)\n",
    "    os.remove(outname)"
   ]
  },
  {
   "cell_type": "code",
   "execution_count": null,
   "id": "720876b7-3e83-4a5d-b504-8336f0a28093",
   "metadata": {},
   "outputs": [],
   "source": [
    "# gdf_tiles_masked=[gpd.read_file(x) for x in shp_tiles_masked]\n",
    "# gdf_merged_masked=gpd.GeoDataFrame(pd.concat(gdf_tiles_masked))\n",
    "# crs=gdf_merged_masked.crs\n",
    "# gdf_merged_masked=gdf_merged_masked.buffer(-2,resolution=1)\n",
    "# geoms_dissolved = gdf_merged_masked.unary_union\n",
    "# geoms_dissolved=geoms_dissolved.buffer(2,resolution=1)\n",
    "# gdf_dissolved=gpd.GeoDataFrame({\"geometry\": [geoms_dissolved]}, crs=crs)\n",
    "# gdf_dissolved.to_file('results_retiled/Rwanda_field_instance_2021_04_10_12_tiles_masked_merged.shp')"
   ]
  },
  {
   "cell_type": "markdown",
   "id": "e80693f0-5638-4ea9-b472-9c6ed29ce826",
   "metadata": {},
   "source": [
    "## Do mosaic"
   ]
  },
  {
   "cell_type": "code",
   "execution_count": 2,
   "id": "0e795e2e-24ee-418d-b1bc-e5ff5f1db2cf",
   "metadata": {},
   "outputs": [
    {
     "name": "stdout",
     "output_type": "stream",
     "text": [
      "0...10...20...30...40...50...60...70...80...90...100 - done.\n"
     ]
    }
   ],
   "source": [
    "!gdal_merge.py -o results_retiled_new/Rwanda_field_instance_2021_04_10_12_masked_mosaic.tif results_retiled_new/Rwanda_field_instance_2021_04_10_12_masked_tile_*.tif -co COMPRESS=DEFLATE"
   ]
  },
  {
   "cell_type": "code",
   "execution_count": null,
   "id": "02c88e42-7a08-445c-8bae-2c65982d414a",
   "metadata": {},
   "outputs": [],
   "source": []
  }
 ],
 "metadata": {
  "kernelspec": {
   "display_name": "Python 3 (ipykernel)",
   "language": "python",
   "name": "python3"
  },
  "language_info": {
   "codemirror_mode": {
    "name": "ipython",
    "version": 3
   },
   "file_extension": ".py",
   "mimetype": "text/x-python",
   "name": "python",
   "nbconvert_exporter": "python",
   "pygments_lexer": "ipython3",
   "version": "3.8.10"
  }
 },
 "nbformat": 4,
 "nbformat_minor": 5
}
