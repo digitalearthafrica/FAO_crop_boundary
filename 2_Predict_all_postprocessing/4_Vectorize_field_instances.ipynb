{
 "cells": [
  {
   "cell_type": "markdown",
   "id": "f3c02cec-577f-4883-92ee-565bd1884300",
   "metadata": {},
   "source": [
    "Test vecterise field instances in each chunk and merge.\n",
    "\n",
    "For each region of interest, e.g. a district, following steps can be used to extract all field instances:\n",
    "- find all field instance chunks\n",
    "- trim the tile edges while preserving small overlap between tiles\n",
    "- convert instances to polygons\n",
    "- shinks the polygons so they don't overlap\n",
    "- dissolve all polygons, merging overlapping shapes\n",
    "- explode multi-part geometries into seperate single geometries\n",
    "- expand the instances to reduce boundary area\n",
    "- (optionally) remove geometries that are too small\n",
    "- simplify the geometries and save the results"
   ]
  },
  {
   "cell_type": "code",
   "execution_count": 1,
   "id": "ebe85760-1d79-435b-ad73-5b64ca36dbf0",
   "metadata": {},
   "outputs": [
    {
     "name": "stderr",
     "output_type": "stream",
     "text": [
      "/usr/local/lib/python3.8/dist-packages/geopandas/_compat.py:112: UserWarning: The Shapely GEOS version (3.8.0-CAPI-1.13.1 ) is incompatible with the GEOS version PyGEOS was compiled with (3.10.3-CAPI-1.16.1). Conversions between both will be slow.\n",
      "  warnings.warn(\n"
     ]
    }
   ],
   "source": [
    "from glob import glob\n",
    "import os\n",
    "import subprocess\n",
    "import rasterio\n",
    "import datacube\n",
    "import numpy as np\n",
    "import geopandas as gpd\n",
    "import rioxarray\n",
    "from skimage import measure,morphology\n",
    "from osgeo import gdal\n",
    "import rioxarray as rxr\n",
    "\n",
    "from deafrica_tools.spatial import xr_vectorize\n",
    "from datacube.utils.geometry import assign_crs\n"
   ]
  },
  {
   "cell_type": "code",
   "execution_count": 2,
   "id": "c485f3e0-943c-4e95-9b78-f63747824883",
   "metadata": {},
   "outputs": [],
   "source": [
    "country = 'Mozambique'\n",
    "str_year='2021'\n",
    "# input folder of input chunks\n",
    "input_folder='results'\n",
    "# folder to export results\n",
    "out_folder='results/processed'\n",
    "# number of pixels to crop from chunk borders\n",
    "# noting the actual overlap is 4 pixels \n",
    "crop_size=2\n",
    "# number of pixels for dilation of crop mask\n",
    "n_dilate=2"
   ]
  },
  {
   "cell_type": "code",
   "execution_count": 3,
   "id": "6283bccc-ebf5-47b0-bad2-5654afdc60a4",
   "metadata": {},
   "outputs": [
    {
     "name": "stdout",
     "output_type": "stream",
     "text": [
      "found 456 cropped field instances chunks\n"
     ]
    }
   ],
   "source": [
    "files_instances=glob(input_folder+'/'+country+'_average_field_instance_'+str_year+'*.tif')\n",
    "print('found {} cropped field instances chunks'.format(len(files_instances)))"
   ]
  },
  {
   "cell_type": "code",
   "execution_count": 4,
   "id": "d2a95848-d2ea-48d7-9daa-7fa2a2fb7c4b",
   "metadata": {},
   "outputs": [
    {
     "name": "stdout",
     "output_type": "stream",
     "text": [
      "CPU times: user 1min, sys: 4.73 s, total: 1min 5s\n",
      "Wall time: 1min 35s\n"
     ]
    }
   ],
   "source": [
    "%%time\n",
    "# list of file names (cropped)\n",
    "files_instances_cropped = []\n",
    "\n",
    "field_instances_all = []\n",
    "for file_instances in files_instances:\n",
    "    # extract size info\n",
    "    ds = rasterio.open(file_instances)\n",
    "    crs = ds.crs.to_string()\n",
    "    xsize = ds.width-2*crop_size\n",
    "    ysize = ds.height-2*crop_size\n",
    "    ds = None\n",
    "\n",
    "    # crop field instances chunk\n",
    "    outname_instances = os.path.join(\n",
    "        out_folder, os.path.basename(file_instances)[:-4]+'_edgecropped.tif')\n",
    "    files_instances_cropped.append(outname_instances)\n",
    "#     if not os.path.exists(outname):\n",
    "    gdal_cmd = [\"gdal_translate\", \"-of\", \"GTiff\", \"-srcwin\", str(crop_size), str(\n",
    "        crop_size), str(xsize), str(ysize), file_instances, outname_instances]\n",
    "    subprocess.run(gdal_cmd, stdout=subprocess.DEVNULL)\n",
    "\n",
    "    # vector output\n",
    "    outname_vector = os.path.join(out_folder, os.path.basename(\n",
    "        file_instances)[:-4]+'_edgecropped_vector.geojson')\n",
    "    da = rxr.open_rasterio(outname_instances)\n",
    "    da = assign_crs(da, crs)\n",
    "    field_instances = xr_vectorize(da,\n",
    "                                   attribute_col='attribute',\n",
    "                                   # transform=None,\n",
    "                                   crs=da.geobox.crs,\n",
    "                                   dtype='float32',\n",
    "                                   export_shp=outname_vector,\n",
    "                                   verbose=False\n",
    "                                   )\n",
    "    da = None\n",
    "    field_instances_all.append(field_instances)"
   ]
  },
  {
   "cell_type": "code",
   "execution_count": 5,
   "id": "724ed29e-951e-4335-975d-7770c37da909",
   "metadata": {},
   "outputs": [],
   "source": [
    "import pandas as pd\n",
    "\n",
    "field_instances_merged = pd.concat(field_instances_all)"
   ]
  },
  {
   "cell_type": "code",
   "execution_count": 6,
   "id": "d67e9925-3626-4925-966c-dd8cb31a5107",
   "metadata": {},
   "outputs": [
    {
     "data": {
      "text/plain": [
       "49983"
      ]
     },
     "execution_count": 6,
     "metadata": {},
     "output_type": "execute_result"
    }
   ],
   "source": [
    "len(field_instances_merged)"
   ]
  },
  {
   "cell_type": "code",
   "execution_count": 33,
   "id": "021b412d-8977-4bd2-9ec5-aeaa8573b282",
   "metadata": {},
   "outputs": [],
   "source": [
    "field_instances_combined = field_instances_merged.copy()\n",
    "field_instances_combined['geometry'] = field_instances_combined.buffer(-3)"
   ]
  },
  {
   "cell_type": "code",
   "execution_count": 34,
   "id": "f26a077a-5639-4af2-866a-25281d144f1e",
   "metadata": {},
   "outputs": [],
   "source": [
    "field_instances_combined = field_instances_combined.dissolve().explode(index_parts=True)\n",
    "field_instances_combined.index = field_instances_combined.index.droplevel(level=0)"
   ]
  },
  {
   "cell_type": "code",
   "execution_count": 35,
   "id": "1c5e36f1-d7b8-47ab-8920-ef9545c41fd5",
   "metadata": {},
   "outputs": [
    {
     "data": {
      "text/plain": [
       "31025"
      ]
     },
     "execution_count": 35,
     "metadata": {},
     "output_type": "execute_result"
    }
   ],
   "source": [
    "len(field_instances_combined)"
   ]
  },
  {
   "cell_type": "code",
   "execution_count": 36,
   "id": "ad0563f3-c3be-4f01-99e2-4eb9e170b404",
   "metadata": {},
   "outputs": [],
   "source": [
    "field_instances_combined['attribute'] = field_instances_combined.index.values\n",
    "field_instances_combined['geometry'] = field_instances_combined.buffer(2).simplify(1)"
   ]
  },
  {
   "cell_type": "code",
   "execution_count": 37,
   "id": "f5286d6e-1191-4480-9492-5ade0627def5",
   "metadata": {},
   "outputs": [
    {
     "data": {
      "text/html": [
       "<div>\n",
       "<style scoped>\n",
       "    .dataframe tbody tr th:only-of-type {\n",
       "        vertical-align: middle;\n",
       "    }\n",
       "\n",
       "    .dataframe tbody tr th {\n",
       "        vertical-align: top;\n",
       "    }\n",
       "\n",
       "    .dataframe thead th {\n",
       "        text-align: right;\n",
       "    }\n",
       "</style>\n",
       "<table border=\"1\" class=\"dataframe\">\n",
       "  <thead>\n",
       "    <tr style=\"text-align: right;\">\n",
       "      <th></th>\n",
       "      <th>attribute</th>\n",
       "      <th>geometry</th>\n",
       "    </tr>\n",
       "  </thead>\n",
       "  <tbody>\n",
       "    <tr>\n",
       "      <th>0</th>\n",
       "      <td>0</td>\n",
       "      <td>POLYGON ((4100053.977 -2002149.593, 4100058.34...</td>\n",
       "    </tr>\n",
       "    <tr>\n",
       "      <th>1</th>\n",
       "      <td>1</td>\n",
       "      <td>POLYGON ((4100080.817 -2002040.659, 4100104.95...</td>\n",
       "    </tr>\n",
       "    <tr>\n",
       "      <th>2</th>\n",
       "      <td>2</td>\n",
       "      <td>POLYGON ((4099915.154 -2001949.226, 4099923.68...</td>\n",
       "    </tr>\n",
       "    <tr>\n",
       "      <th>3</th>\n",
       "      <td>3</td>\n",
       "      <td>POLYGON ((4099927.390 -2001483.070, 4099926.18...</td>\n",
       "    </tr>\n",
       "    <tr>\n",
       "      <th>4</th>\n",
       "      <td>4</td>\n",
       "      <td>POLYGON ((4099902.269 -2001907.945, 4099904.15...</td>\n",
       "    </tr>\n",
       "  </tbody>\n",
       "</table>\n",
       "</div>"
      ],
      "text/plain": [
       "   attribute                                           geometry\n",
       "0          0  POLYGON ((4100053.977 -2002149.593, 4100058.34...\n",
       "1          1  POLYGON ((4100080.817 -2002040.659, 4100104.95...\n",
       "2          2  POLYGON ((4099915.154 -2001949.226, 4099923.68...\n",
       "3          3  POLYGON ((4099927.390 -2001483.070, 4099926.18...\n",
       "4          4  POLYGON ((4099902.269 -2001907.945, 4099904.15..."
      ]
     },
     "execution_count": 37,
     "metadata": {},
     "output_type": "execute_result"
    }
   ],
   "source": [
    "field_instances_combined.head()"
   ]
  },
  {
   "cell_type": "code",
   "execution_count": 38,
   "id": "edf4beef-93c6-4cb0-ab9d-68d0fc26e08b",
   "metadata": {},
   "outputs": [],
   "source": [
    "path = \"results/processed/Mozambique_field_instances_vector.geojson\"\n",
    "field_instances_combined.to_file(path, driver=\"GeoJSON\")"
   ]
  },
  {
   "cell_type": "code",
   "execution_count": 48,
   "id": "43d1c445-ea9b-493f-aa7b-cd96ccc8bc19",
   "metadata": {},
   "outputs": [
    {
     "data": {
      "text/plain": [
       "30727"
      ]
     },
     "execution_count": 48,
     "metadata": {},
     "output_type": "execute_result"
    }
   ],
   "source": [
    "len(field_instances_combined[field_instances_combined.area>20])"
   ]
  }
 ],
 "metadata": {
  "kernelspec": {
   "display_name": "Python 3 (ipykernel)",
   "language": "python",
   "name": "python3"
  },
  "language_info": {
   "codemirror_mode": {
    "name": "ipython",
    "version": 3
   },
   "file_extension": ".py",
   "mimetype": "text/x-python",
   "name": "python",
   "nbconvert_exporter": "python",
   "pygments_lexer": "ipython3",
   "version": "3.8.10"
  }
 },
 "nbformat": 4,
 "nbformat_minor": 5
}
